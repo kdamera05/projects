{
 "cells": [
  {
   "cell_type": "markdown",
   "metadata": {
    "collapsed": true
   },
   "source": [
    "# Analysing Comments on Hacker News Postings. Ask HN vs Show HN"
   ]
  },
  {
   "cell_type": "code",
   "execution_count": 1,
   "metadata": {
    "collapsed": false
   },
   "outputs": [
    {
     "name": "stdout",
     "output_type": "stream",
     "text": [
      "['id', 'title', 'url', 'num_points', 'num_comments', 'author', 'created_at']\n",
      "['12224879', 'Interactive Dynamic Video', 'http://www.interactivedynamicvideo.com/', '386', '52', 'ne0phyte', '8/4/2016 11:52']\n",
      "['10975351', 'How to Use Open Source and Shut the Fuck Up at the Same Time', 'http://hueniverse.com/2016/01/26/how-to-use-open-source-and-shut-the-fuck-up-at-the-same-time/', '39', '10', 'josep2', '1/26/2016 19:30']\n",
      "['11964716', \"Florida DJs May Face Felony for April Fools' Water Joke\", 'http://www.thewire.com/entertainment/2013/04/florida-djs-april-fools-water-joke/63798/', '2', '1', 'vezycash', '6/23/2016 22:20']\n",
      "['11919867', 'Technology ventures: From Idea to Enterprise', 'https://www.amazon.com/Technology-Ventures-Enterprise-Thomas-Byers/dp/0073523429', '3', '1', 'hswarna', '6/17/2016 0:01']\n"
     ]
    }
   ],
   "source": [
    "from csv import reader\n",
    "opened_file=open('hacker_news.csv')\n",
    "read_file=reader(opened_file)\n",
    "hn=list(read_file)\n",
    "for row in hn[:5]:\n",
    "    print(row)"
   ]
  },
  {
   "cell_type": "code",
   "execution_count": 2,
   "metadata": {
    "collapsed": false
   },
   "outputs": [
    {
     "name": "stdout",
     "output_type": "stream",
     "text": [
      "['12224879', 'Interactive Dynamic Video', 'http://www.interactivedynamicvideo.com/', '386', '52', 'ne0phyte', '8/4/2016 11:52']\n",
      "['10975351', 'How to Use Open Source and Shut the Fuck Up at the Same Time', 'http://hueniverse.com/2016/01/26/how-to-use-open-source-and-shut-the-fuck-up-at-the-same-time/', '39', '10', 'josep2', '1/26/2016 19:30']\n",
      "['11964716', \"Florida DJs May Face Felony for April Fools' Water Joke\", 'http://www.thewire.com/entertainment/2013/04/florida-djs-april-fools-water-joke/63798/', '2', '1', 'vezycash', '6/23/2016 22:20']\n",
      "['11919867', 'Technology ventures: From Idea to Enterprise', 'https://www.amazon.com/Technology-Ventures-Enterprise-Thomas-Byers/dp/0073523429', '3', '1', 'hswarna', '6/17/2016 0:01']\n",
      "['10301696', 'Note by Note: The Making of Steinway L1037 (2007)', 'http://www.nytimes.com/2007/11/07/movies/07stein.html?_r=0', '8', '2', 'walterbell', '9/30/2015 4:12']\n"
     ]
    }
   ],
   "source": [
    "#separating data and header\n",
    "headers=hn[0]\n",
    "hn=hn[1:]\n",
    "for row in hn[:5]:\n",
    "    print(row)"
   ]
  },
  {
   "cell_type": "code",
   "execution_count": 3,
   "metadata": {
    "collapsed": false
   },
   "outputs": [
    {
     "name": "stdout",
     "output_type": "stream",
     "text": [
      "1744 1162 17194\n",
      "20100\n"
     ]
    }
   ],
   "source": [
    "ask_posts=[]\n",
    "show_posts=[]\n",
    "other_posts=[]\n",
    "\n",
    "for row in hn:\n",
    "    title=row[1]\n",
    "    if title.lower().startswith('ask hn'):\n",
    "        ask_posts.append(row)\n",
    "    elif title.lower().startswith('show hn'):\n",
    "        show_posts.append(row)\n",
    "    else:\n",
    "        other_posts.append(row)\n",
    "print(len(ask_posts),len(show_posts), len(other_posts))\n",
    "print(len(hn))\n",
    "\n"
   ]
  },
  {
   "cell_type": "code",
   "execution_count": 4,
   "metadata": {
    "collapsed": false
   },
   "outputs": [
    {
     "name": "stdout",
     "output_type": "stream",
     "text": [
      "[['12296411', 'Ask HN: How to improve my personal website?', '', '2', '6', 'ahmedbaracat', '8/16/2016 9:55'], ['10610020', 'Ask HN: Am I the only one outraged by Twitter shutting down share counts?', '', '28', '29', 'tkfx', '11/22/2015 13:43'], ['11610310', 'Ask HN: Aby recent changes to CSS that broke mobile?', '', '1', '1', 'polskibus', '5/2/2016 10:14'], ['12210105', 'Ask HN: Looking for Employee #3 How do I do it?', '', '1', '3', 'sph130', '8/2/2016 14:20'], ['10394168', 'Ask HN: Someone offered to buy my browser extension from me. What now?', '', '28', '17', 'roykolak', '10/15/2015 16:38']]\n",
      "[['10627194', 'Show HN: Wio Link  ESP8266 Based Web of Things Hardware Development Platform', 'https://iot.seeed.cc', '26', '22', 'kfihihc', '11/25/2015 14:03'], ['10646440', 'Show HN: Something pointless I made', 'http://dn.ht/picklecat/', '747', '102', 'dhotson', '11/29/2015 22:46'], ['11590768', 'Show HN: Shanhu.io, a programming playground powered by e8vm', 'https://shanhu.io', '1', '1', 'h8liu', '4/28/2016 18:05'], ['12178806', 'Show HN: Webscope  Easy way for web developers to communicate with Clients', 'http://webscopeapp.com', '3', '3', 'fastbrick', '7/28/2016 7:11'], ['10872799', 'Show HN: GeoScreenshot  Easily test Geo-IP based web pages', 'https://www.geoscreenshot.com/', '1', '9', 'kpsychwave', '1/9/2016 20:45']]\n",
      "[['12224879', 'Interactive Dynamic Video', 'http://www.interactivedynamicvideo.com/', '386', '52', 'ne0phyte', '8/4/2016 11:52'], ['10975351', 'How to Use Open Source and Shut the Fuck Up at the Same Time', 'http://hueniverse.com/2016/01/26/how-to-use-open-source-and-shut-the-fuck-up-at-the-same-time/', '39', '10', 'josep2', '1/26/2016 19:30'], ['11964716', \"Florida DJs May Face Felony for April Fools' Water Joke\", 'http://www.thewire.com/entertainment/2013/04/florida-djs-april-fools-water-joke/63798/', '2', '1', 'vezycash', '6/23/2016 22:20'], ['11919867', 'Technology ventures: From Idea to Enterprise', 'https://www.amazon.com/Technology-Ventures-Enterprise-Thomas-Byers/dp/0073523429', '3', '1', 'hswarna', '6/17/2016 0:01'], ['10301696', 'Note by Note: The Making of Steinway L1037 (2007)', 'http://www.nytimes.com/2007/11/07/movies/07stein.html?_r=0', '8', '2', 'walterbell', '9/30/2015 4:12']]\n"
     ]
    }
   ],
   "source": [
    "# Verifying separated posts\n",
    "print(ask_posts[:5]) \n",
    "print(show_posts[:5]) \n",
    "print(other_posts[:5]) "
   ]
  },
  {
   "cell_type": "code",
   "execution_count": 5,
   "metadata": {
    "collapsed": false
   },
   "outputs": [
    {
     "name": "stdout",
     "output_type": "stream",
     "text": [
      "Avg ask comments:  14.038417431192661\n",
      "Avg show comments:  10.31669535283993\n"
     ]
    }
   ],
   "source": [
    "#Finding number of comments for each type of posts.\n",
    "ask_comments = [int(row[4]) for row in ask_posts]\n",
    "avg_ask_comments = sum(ask_comments) / len(ask_comments)\n",
    "\n",
    "show_comments =[int(row[4]) for row in show_posts]\n",
    "avg_show_comments = sum(show_comments) / len(show_comments)\n",
    "\n",
    "print('Avg ask comments: ', avg_ask_comments)\n",
    "print('Avg show comments: ', avg_show_comments)\n"
   ]
  },
  {
   "cell_type": "markdown",
   "metadata": {},
   "source": [
    "On an average, ask posts receives more comments than show posts."
   ]
  },
  {
   "cell_type": "code",
   "execution_count": 6,
   "metadata": {
    "collapsed": false
   },
   "outputs": [
    {
     "name": "stdout",
     "output_type": "stream",
     "text": [
      "{0: 55, 1: 60, 2: 58, 3: 54, 4: 47, 5: 46, 6: 44, 7: 34, 8: 48, 9: 45, 10: 59, 11: 58, 12: 73, 13: 85, 14: 107, 15: 116, 16: 108, 17: 100, 18: 109, 19: 110, 20: 80, 21: 109, 22: 71, 23: 68}\n",
      "{0: 447, 1: 683, 2: 1381, 3: 421, 4: 337, 5: 464, 6: 397, 7: 267, 8: 492, 9: 251, 10: 793, 11: 641, 12: 687, 13: 1253, 14: 1416, 15: 4477, 16: 1814, 17: 1146, 18: 1439, 19: 1188, 20: 1722, 21: 1745, 22: 479, 23: 543}\n"
     ]
    }
   ],
   "source": [
    "import datetime as dt\n",
    "result_list=[]\n",
    "created_at=[row[6] for row in ask_posts]\n",
    "for row in range(len(created_at)):\n",
    "    tup=(created_at[row],ask_comments[row])\n",
    "    result_list.append(tup)\n",
    "\n",
    "counts_by_hour={}\n",
    "comments_by_hour={}\n",
    "\n",
    "for date,no_cm in result_list:\n",
    "    dtdate=dt.datetime.strptime(date,'%m/%d/%Y %H:%M')\n",
    "    #print(dtdate)\n",
    "    hr= dtdate.hour\n",
    "    if hr in counts_by_hour:\n",
    "        counts_by_hour[hr]+=1\n",
    "        comments_by_hour[hr]+=no_cm\n",
    "    else:\n",
    "        counts_by_hour[hr]=1\n",
    "        comments_by_hour[hr]=no_cm\n",
    "#Posts by hour\n",
    "print(counts_by_hour)\n",
    "#Comments by hour\n",
    "print(comments_by_hour)\n",
    "\n",
    "                \n"
   ]
  },
  {
   "cell_type": "code",
   "execution_count": 7,
   "metadata": {
    "collapsed": true
   },
   "outputs": [],
   "source": [
    "avg_hour=[[h,comments_by_hour[h]/counts_by_hour[h]]for h in counts_by_hour]"
   ]
  },
  {
   "cell_type": "code",
   "execution_count": 9,
   "metadata": {
    "collapsed": false
   },
   "outputs": [
    {
     "data": {
      "text/plain": [
       "[[0, 8.127272727272727],\n",
       " [1, 11.383333333333333],\n",
       " [2, 23.810344827586206],\n",
       " [3, 7.796296296296297],\n",
       " [4, 7.170212765957447],\n",
       " [5, 10.08695652173913],\n",
       " [6, 9.022727272727273],\n",
       " [7, 7.852941176470588],\n",
       " [8, 10.25],\n",
       " [9, 5.5777777777777775],\n",
       " [10, 13.440677966101696],\n",
       " [11, 11.051724137931034],\n",
       " [12, 9.41095890410959],\n",
       " [13, 14.741176470588234],\n",
       " [14, 13.233644859813085],\n",
       " [15, 38.5948275862069],\n",
       " [16, 16.796296296296298],\n",
       " [17, 11.46],\n",
       " [18, 13.20183486238532],\n",
       " [19, 10.8],\n",
       " [20, 21.525],\n",
       " [21, 16.009174311926607],\n",
       " [22, 6.746478873239437],\n",
       " [23, 7.985294117647059]]"
      ]
     },
     "execution_count": 9,
     "metadata": {},
     "output_type": "execute_result"
    }
   ],
   "source": [
    "avg_hour"
   ]
  },
  {
   "cell_type": "code",
   "execution_count": 12,
   "metadata": {
    "collapsed": false
   },
   "outputs": [
    {
     "name": "stdout",
     "output_type": "stream",
     "text": [
      "[15, 38.5948275862069]\n",
      "\n",
      "\n",
      "[2, 23.810344827586206]\n",
      "\n",
      "\n",
      "[20, 21.525]\n",
      "\n",
      "\n",
      "[16, 16.796296296296298]\n",
      "\n",
      "\n",
      "[21, 16.009174311926607]\n",
      "\n",
      "\n",
      "[13, 14.741176470588234]\n",
      "\n",
      "\n",
      "[10, 13.440677966101696]\n",
      "\n",
      "\n",
      "[14, 13.233644859813085]\n",
      "\n",
      "\n",
      "[18, 13.20183486238532]\n",
      "\n",
      "\n",
      "[17, 11.46]\n",
      "\n",
      "\n",
      "[1, 11.383333333333333]\n",
      "\n",
      "\n",
      "[11, 11.051724137931034]\n",
      "\n",
      "\n",
      "[19, 10.8]\n",
      "\n",
      "\n",
      "[8, 10.25]\n",
      "\n",
      "\n",
      "[5, 10.08695652173913]\n",
      "\n",
      "\n",
      "[12, 9.41095890410959]\n",
      "\n",
      "\n",
      "[6, 9.022727272727273]\n",
      "\n",
      "\n",
      "[0, 8.127272727272727]\n",
      "\n",
      "\n",
      "[23, 7.985294117647059]\n",
      "\n",
      "\n",
      "[7, 7.852941176470588]\n",
      "\n",
      "\n",
      "[3, 7.796296296296297]\n",
      "\n",
      "\n",
      "[4, 7.170212765957447]\n",
      "\n",
      "\n",
      "[22, 6.746478873239437]\n",
      "\n",
      "\n",
      "[9, 5.5777777777777775]\n",
      "\n",
      "\n"
     ]
    }
   ],
   "source": [
    "# Sorting hours by order of avg comments by post\n",
    "\n",
    "sorted_avg_hour=sorted(avg_hour, key=lambda row:row[1],reverse=True)\n",
    "for row in sorted_avg_hour:\n",
    "    print(row)\n",
    "    print(\"\\n\")\n"
   ]
  },
  {
   "cell_type": "code",
   "execution_count": 15,
   "metadata": {
    "collapsed": false
   },
   "outputs": [
    {
     "name": "stdout",
     "output_type": "stream",
     "text": [
      "15:00 -  38.59 average comments per post\n",
      "02:00 -  23.81 average comments per post\n",
      "20:00 -  21.52 average comments per post\n",
      "16:00 -  16.80 average comments per post\n",
      "21:00 -  16.01 average comments per post\n",
      "13:00 -  14.74 average comments per post\n",
      "10:00 -  13.44 average comments per post\n",
      "14:00 -  13.23 average comments per post\n",
      "18:00 -  13.20 average comments per post\n",
      "17:00 -  11.46 average comments per post\n",
      "01:00 -  11.38 average comments per post\n",
      "11:00 -  11.05 average comments per post\n",
      "19:00 -  10.80 average comments per post\n",
      "08:00 -  10.25 average comments per post\n",
      "05:00 -  10.09 average comments per post\n",
      "12:00 -  9.41 average comments per post\n",
      "06:00 -  9.02 average comments per post\n",
      "00:00 -  8.13 average comments per post\n",
      "23:00 -  7.99 average comments per post\n",
      "07:00 -  7.85 average comments per post\n",
      "03:00 -  7.80 average comments per post\n",
      "04:00 -  7.17 average comments per post\n",
      "22:00 -  6.75 average comments per post\n",
      "09:00 -  5.58 average comments per post\n"
     ]
    }
   ],
   "source": [
    "for hr, comments in sorted_avg_hour:\n",
    "    hr_dt = dt.datetime.strptime(str(hr),'%H')\n",
    "    hr_str = hr_dt.strftime(\"%H:%M\")\n",
    "    print(\"{} -  {:.2f} average comments per post\".format(hr_str, comments))"
   ]
  },
  {
   "cell_type": "code",
   "execution_count": null,
   "metadata": {
    "collapsed": true
   },
   "outputs": [],
   "source": []
  }
 ],
 "metadata": {
  "kernelspec": {
   "display_name": "Python 3",
   "language": "python",
   "name": "python3"
  },
  "language_info": {
   "codemirror_mode": {
    "name": "ipython",
    "version": 3
   },
   "file_extension": ".py",
   "mimetype": "text/x-python",
   "name": "python",
   "nbconvert_exporter": "python",
   "pygments_lexer": "ipython3",
   "version": "3.4.3"
  }
 },
 "nbformat": 4,
 "nbformat_minor": 2
}
