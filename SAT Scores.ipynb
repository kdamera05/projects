{
 "cells": [
  {
   "cell_type": "code",
   "execution_count": 9,
   "metadata": {},
   "outputs": [],
   "source": [
    "import pandas as pd\n",
    "data_dict ={}\n",
    "data_files={\"ap_2010.csv\",\n",
    "    \"Class_Size.csv\",\n",
    "    \"Demographics.csv\",\n",
    "    \"Graduation.csv\",\n",
    "    \"Hs_Directory.csv\",\n",
    "    \"Sat_Result.csv\"}\n",
    "for d in data_files:\n",
    "    df=d.replace(\".csv\",\"\")\n",
    "    data_dict[df] =pd.read_csv(d)\n",
    "    "
   ]
  },
  {
   "cell_type": "code",
   "execution_count": 15,
   "metadata": {},
   "outputs": [
    {
     "name": "stdout",
     "output_type": "stream",
     "text": [
      "      DBN                    SchoolName  AP Test Takers   Total Exams Taken  \\\n",
      "0  01M448  UNIVERSITY NEIGHBORHOOD H.S.             39.0               49.0   \n",
      "1  01M450        EAST SIDE COMMUNITY HS             19.0               21.0   \n",
      "2  01M515           LOWER EASTSIDE PREP             24.0               26.0   \n",
      "\n",
      "   Number of Exams with scores 3 4 or 5  \n",
      "0                                  10.0  \n",
      "1                                   NaN  \n",
      "2                                  24.0  \n",
      "    Demographic     DBN                            School Name Cohort  \\\n",
      "0  Total Cohort  01M292  HENRY STREET SCHOOL FOR INTERNATIONAL   2003   \n",
      "1  Total Cohort  01M292  HENRY STREET SCHOOL FOR INTERNATIONAL   2004   \n",
      "2  Total Cohort  01M292  HENRY STREET SCHOOL FOR INTERNATIONAL   2005   \n",
      "\n",
      "   Total Cohort Total Grads - n  Total Grads - % of cohort Total Regents - n  \\\n",
      "0             5               s                        NaN                 s   \n",
      "1            55              37                       67.3                17   \n",
      "2            64              43                       67.2                27   \n",
      "\n",
      "   Total Regents - % of cohort  Total Regents - % of grads  ...  \\\n",
      "0                          NaN                         NaN  ...   \n",
      "1                         30.9                        45.9  ...   \n",
      "2                         42.2                        62.8  ...   \n",
      "\n",
      "  Regents w/o Advanced - n  Regents w/o Advanced - % of cohort  \\\n",
      "0                        s                                 NaN   \n",
      "1                       17                                30.9   \n",
      "2                       27                                42.2   \n",
      "\n",
      "   Regents w/o Advanced - % of grads Local - n  Local - % of cohort  \\\n",
      "0                                NaN         s                  NaN   \n",
      "1                               45.9        20                 36.4   \n",
      "2                               62.8        16                 25.0   \n",
      "\n",
      "   Local - % of grads Still Enrolled - n  Still Enrolled - % of cohort  \\\n",
      "0                 NaN                  s                           NaN   \n",
      "1                54.1                 15                          27.3   \n",
      "2                37.2                  9                          14.1   \n",
      "\n",
      "   Dropped Out - n Dropped Out - % of cohort  \n",
      "0                s                       NaN  \n",
      "1                3                       5.5  \n",
      "2                9                      14.1  \n",
      "\n",
      "[3 rows x 23 columns]\n",
      "   CSD BOROUGH SCHOOL CODE                SCHOOL NAME GRADE  PROGRAM TYPE  \\\n",
      "0    1       M        M015  P.S. 015 Roberto Clemente     0K       GEN ED   \n",
      "1    1       M        M015  P.S. 015 Roberto Clemente     0K          CTT   \n",
      "2    1       M        M015  P.S. 015 Roberto Clemente     01       GEN ED   \n",
      "\n",
      "  CORE SUBJECT (MS CORE and 9-12 ONLY) CORE COURSE (MS CORE and 9-12 ONLY)  \\\n",
      "0                                    -                                   -   \n",
      "1                                    -                                   -   \n",
      "2                                    -                                   -   \n",
      "\n",
      "  SERVICE CATEGORY(K-9* ONLY)  NUMBER OF STUDENTS / SEATS FILLED  \\\n",
      "0                           -                               19.0   \n",
      "1                           -                               21.0   \n",
      "2                           -                               17.0   \n",
      "\n",
      "   NUMBER OF SECTIONS  AVERAGE CLASS SIZE  SIZE OF SMALLEST CLASS  \\\n",
      "0                 1.0                19.0                    19.0   \n",
      "1                 1.0                21.0                    21.0   \n",
      "2                 1.0                17.0                    17.0   \n",
      "\n",
      "   SIZE OF LARGEST CLASS DATA SOURCE  SCHOOLWIDE PUPIL-TEACHER RATIO  \n",
      "0                   19.0         ATS                             NaN  \n",
      "1                   21.0         ATS                             NaN  \n",
      "2                   17.0         ATS                             NaN  \n",
      "      DBN                                    SCHOOL NAME  \\\n",
      "0  01M292  HENRY STREET SCHOOL FOR INTERNATIONAL STUDIES   \n",
      "1  01M448            UNIVERSITY NEIGHBORHOOD HIGH SCHOOL   \n",
      "2  01M450                     EAST SIDE COMMUNITY SCHOOL   \n",
      "\n",
      "  Num of SAT Test Takers SAT Critical Reading Avg. Score SAT Math Avg. Score  \\\n",
      "0                     29                             355                 404   \n",
      "1                     91                             383                 423   \n",
      "2                     70                             377                 402   \n",
      "\n",
      "  SAT Writing Avg. Score  \n",
      "0                    363  \n",
      "1                    366  \n",
      "2                    370  \n",
      "      dbn                                        school_name   borough  \\\n",
      "0  21K540                             John Dewey High School  Brooklyn   \n",
      "1  15K429                 Brooklyn School for Global Studies  Brooklyn   \n",
      "2  24Q530  International High School at LaGuardia Communi...    Queens   \n",
      "\n",
      "  building_code  phone_number    fax_number  grade_span_min  grade_span_max  \\\n",
      "0          K540  718-373-6400  718-266-4385             9.0              12   \n",
      "1          K293  718-694-9741  718-694-9745             6.0              12   \n",
      "2          Q520  718-392-3433  718-392-3443             9.0              12   \n",
      "\n",
      "   expgrade_span_min  expgrade_span_max  ... priority08 priority09 priority10  \\\n",
      "0                NaN                NaN  ...        NaN        NaN        NaN   \n",
      "1                NaN                NaN  ...        NaN        NaN        NaN   \n",
      "2                NaN                NaN  ...        NaN        NaN        NaN   \n",
      "\n",
      "                                          Location 1 Community Board  \\\n",
      "0  50 Avenue\\nX Brooklyn, NY 11223\\n(40.589238098...            13.0   \n",
      "1  284 Baltic Street\\nBrooklyn, NY 11201\\n(40.685...             6.0   \n",
      "2  45 35 Van Dam Street\\nLong Island City, NY 111...             2.0   \n",
      "\n",
      "   Council District Census Tract        BIN           BBL  \\\n",
      "0              47.0        308.0  3194998.0  3.071850e+09   \n",
      "1              33.0         69.0  3006401.0  3.004020e+09   \n",
      "2              26.0        179.0  4003442.0  4.002490e+09   \n",
      "\n",
      "                                                 NTA  \n",
      "0  Gravesend                                     ...  \n",
      "1  DUMBO-Vinegar Hill-Downtown Brooklyn-Boerum Hi...  \n",
      "2  Hunters Point-Sunnyside-West Maspeth          ...  \n",
      "\n",
      "[3 rows x 64 columns]\n",
      "      DBN                       Name  schoolyear fl_percent  frl_percent  \\\n",
      "0  01M015  P.S. 015 ROBERTO CLEMENTE    20052006       89.4          NaN   \n",
      "1  01M015  P.S. 015 ROBERTO CLEMENTE    20062007       89.4          NaN   \n",
      "2  01M015  P.S. 015 ROBERTO CLEMENTE    20072008       89.4          NaN   \n",
      "\n",
      "   total_enrollment prek   k grade1 grade2  ... black_num black_per  \\\n",
      "0               281   15  36     40     33  ...        74      26.3   \n",
      "1               243   15  29     39     38  ...        68      28.0   \n",
      "2               261   18  43     39     36  ...        77      29.5   \n",
      "\n",
      "  hispanic_num hispanic_per white_num white_per male_num male_per female_num  \\\n",
      "0          189         67.3         5       1.8    158.0     56.2      123.0   \n",
      "1          153         63.0         4       1.6    140.0     57.6      103.0   \n",
      "2          157         60.2         7       2.7    143.0     54.8      118.0   \n",
      "\n",
      "  female_per  \n",
      "0       43.8  \n",
      "1       42.4  \n",
      "2       45.2  \n",
      "\n",
      "[3 rows x 38 columns]\n"
     ]
    }
   ],
   "source": [
    "for d in data_dict:\n",
    "    print(data_dict[d].head(3))"
   ]
  },
  {
   "cell_type": "code",
   "execution_count": 50,
   "metadata": {},
   "outputs": [],
   "source": [
    "# Reading survey files\n",
    "survey = pd.read_csv(\"Survey.txt\", delimiter=\"\\t\", encoding='windows-1252')\n",
    "survey_d75 = pd.read_csv(\"Survey_d75.txt\", delimiter=\"\\t\", encoding='windows-1252')\n",
    "survey_comb = pd.concat([survey, survey_d75], axis=0, sort=True)"
   ]
  },
  {
   "cell_type": "code",
   "execution_count": 51,
   "metadata": {},
   "outputs": [
    {
     "data": {
      "text/plain": [
       "0    01M015\n",
       "1    01M019\n",
       "2    01M020\n",
       "3    01M034\n",
       "4    01M063\n",
       "Name: dbn, dtype: object"
      ]
     },
     "execution_count": 51,
     "metadata": {},
     "output_type": "execute_result"
    }
   ],
   "source": [
    "survey_comb['dbn'].head(5)"
   ]
  },
  {
   "cell_type": "code",
   "execution_count": 53,
   "metadata": {},
   "outputs": [],
   "source": [
    "survey_comb.rename({'dbn':'DBN'}, inplace=True, axis=1)"
   ]
  },
  {
   "cell_type": "code",
   "execution_count": 54,
   "metadata": {},
   "outputs": [
    {
     "data": {
      "text/plain": [
       "0    01M015\n",
       "1    01M019\n",
       "2    01M020\n",
       "3    01M034\n",
       "4    01M063\n",
       "Name: DBN, dtype: object"
      ]
     },
     "execution_count": 54,
     "metadata": {},
     "output_type": "execute_result"
    }
   ],
   "source": [
    "survey_comb['DBN'].head()"
   ]
  },
  {
   "cell_type": "code",
   "execution_count": 55,
   "metadata": {},
   "outputs": [
    {
     "data": {
      "text/plain": [
       "(1702, 2773)"
      ]
     },
     "execution_count": 55,
     "metadata": {},
     "output_type": "execute_result"
    }
   ],
   "source": [
    "survey_comb.shape\n"
   ]
  },
  {
   "cell_type": "code",
   "execution_count": 57,
   "metadata": {},
   "outputs": [],
   "source": [
    "# We will not need all columns, selecting only columns we require\n",
    "survey_cols = [\n",
    "    \"DBN\", \n",
    "    \"rr_s\", \n",
    "    \"rr_t\", \n",
    "    \"rr_p\", \n",
    "    \"N_s\", \n",
    "    \"N_t\", \n",
    "    \"N_p\", \n",
    "    \"saf_p_11\", \n",
    "    \"com_p_11\", \n",
    "    \"eng_p_11\", \n",
    "    \"aca_p_11\", \n",
    "    \"saf_t_11\", \n",
    "    \"com_t_11\", \n",
    "    \"eng_t_11\", \n",
    "    \"aca_t_11\", \n",
    "    \"saf_s_11\", \n",
    "    \"com_s_11\", \n",
    "    \"eng_s_11\", \n",
    "    \"aca_s_11\", \n",
    "    \"saf_tot_11\", \n",
    "    \"com_tot_11\", \n",
    "    \"eng_tot_11\", \n",
    "    \"aca_tot_11\",\n",
    "]\n",
    "survey = survey_comb[survey_cols]\n",
    "data_dict[\"survey\"] = survey"
   ]
  },
  {
   "cell_type": "code",
   "execution_count": 58,
   "metadata": {},
   "outputs": [
    {
     "data": {
      "text/plain": [
       "(1702, 23)"
      ]
     },
     "execution_count": 58,
     "metadata": {},
     "output_type": "execute_result"
    }
   ],
   "source": [
    "data_dict[\"survey\"].shape"
   ]
  },
  {
   "cell_type": "code",
   "execution_count": 64,
   "metadata": {},
   "outputs": [],
   "source": [
    "data_dict[\"Hs_Directory\"].rename({'dbn':'DBN'}, axis=1, inplace=True)"
   ]
  },
  {
   "cell_type": "code",
   "execution_count": 65,
   "metadata": {},
   "outputs": [
    {
     "name": "stdout",
     "output_type": "stream",
     "text": [
      "<class 'pandas.core.frame.DataFrame'>\n",
      "RangeIndex: 435 entries, 0 to 434\n",
      "Data columns (total 64 columns):\n",
      "DBN                                 435 non-null object\n",
      "school_name                         435 non-null object\n",
      "borough                             435 non-null object\n",
      "building_code                       435 non-null object\n",
      "phone_number                        435 non-null object\n",
      "fax_number                          423 non-null object\n",
      "grade_span_min                      432 non-null float64\n",
      "grade_span_max                      435 non-null int64\n",
      "expgrade_span_min                   31 non-null float64\n",
      "expgrade_span_max                   33 non-null float64\n",
      "bus                                 434 non-null object\n",
      "subway                              358 non-null object\n",
      "primary_address_line_1              435 non-null object\n",
      "city                                435 non-null object\n",
      "state_code                          435 non-null object\n",
      "postcode                            435 non-null int64\n",
      "website                             430 non-null object\n",
      "total_students                      426 non-null float64\n",
      "campus_name                         217 non-null object\n",
      "school_type                         104 non-null object\n",
      "overview_paragraph                  434 non-null object\n",
      "program_highlights                  434 non-null object\n",
      "language_classes                    412 non-null object\n",
      "advancedplacement_courses           340 non-null object\n",
      "online_ap_courses                   64 non-null object\n",
      "online_language_courses             73 non-null object\n",
      "extracurricular_activities          435 non-null object\n",
      "psal_sports_boys                    373 non-null object\n",
      "psal_sports_girls                   373 non-null object\n",
      "psal_sports_coed                    147 non-null object\n",
      "school_sports                       297 non-null object\n",
      "partner_cbo                         354 non-null object\n",
      "partner_hospital                    196 non-null object\n",
      "partner_highered                    378 non-null object\n",
      "partner_cultural                    305 non-null object\n",
      "partner_nonprofit                   297 non-null object\n",
      "partner_corporate                   198 non-null object\n",
      "partner_financial                   72 non-null object\n",
      "partner_other                       188 non-null object\n",
      "addtl_info1                         354 non-null object\n",
      "addtl_info2                         229 non-null object\n",
      "start_time                          431 non-null object\n",
      "end_time                            431 non-null object\n",
      "se_services                         435 non-null object\n",
      "ell_programs                        435 non-null object\n",
      "school_accessibility_description    435 non-null object\n",
      "number_programs                     435 non-null int64\n",
      "priority01                          435 non-null object\n",
      "priority02                          352 non-null object\n",
      "priority03                          243 non-null object\n",
      "priority04                          177 non-null object\n",
      "priority05                          39 non-null object\n",
      "priority06                          17 non-null object\n",
      "priority07                          4 non-null object\n",
      "priority08                          1 non-null object\n",
      "priority09                          1 non-null object\n",
      "priority10                          1 non-null object\n",
      "Location 1                          435 non-null object\n",
      "Community Board                     432 non-null float64\n",
      "Council District                    432 non-null float64\n",
      "Census Tract                        432 non-null float64\n",
      "BIN                                 431 non-null float64\n",
      "BBL                                 431 non-null float64\n",
      "NTA                                 432 non-null object\n",
      "dtypes: float64(9), int64(3), object(52)\n",
      "memory usage: 217.6+ KB\n"
     ]
    }
   ],
   "source": [
    "data_dict[\"Hs_Directory\"].info()"
   ]
  },
  {
   "cell_type": "code",
   "execution_count": 67,
   "metadata": {},
   "outputs": [
    {
     "data": {
      "text/html": [
       "<div>\n",
       "<style scoped>\n",
       "    .dataframe tbody tr th:only-of-type {\n",
       "        vertical-align: middle;\n",
       "    }\n",
       "\n",
       "    .dataframe tbody tr th {\n",
       "        vertical-align: top;\n",
       "    }\n",
       "\n",
       "    .dataframe thead th {\n",
       "        text-align: right;\n",
       "    }\n",
       "</style>\n",
       "<table border=\"1\" class=\"dataframe\">\n",
       "  <thead>\n",
       "    <tr style=\"text-align: right;\">\n",
       "      <th></th>\n",
       "      <th>CSD</th>\n",
       "      <th>BOROUGH</th>\n",
       "      <th>SCHOOL CODE</th>\n",
       "      <th>SCHOOL NAME</th>\n",
       "      <th>GRADE</th>\n",
       "      <th>PROGRAM TYPE</th>\n",
       "      <th>CORE SUBJECT (MS CORE and 9-12 ONLY)</th>\n",
       "      <th>CORE COURSE (MS CORE and 9-12 ONLY)</th>\n",
       "      <th>SERVICE CATEGORY(K-9* ONLY)</th>\n",
       "      <th>NUMBER OF STUDENTS / SEATS FILLED</th>\n",
       "      <th>NUMBER OF SECTIONS</th>\n",
       "      <th>AVERAGE CLASS SIZE</th>\n",
       "      <th>SIZE OF SMALLEST CLASS</th>\n",
       "      <th>SIZE OF LARGEST CLASS</th>\n",
       "      <th>DATA SOURCE</th>\n",
       "      <th>SCHOOLWIDE PUPIL-TEACHER RATIO</th>\n",
       "    </tr>\n",
       "  </thead>\n",
       "  <tbody>\n",
       "    <tr>\n",
       "      <td>0</td>\n",
       "      <td>1</td>\n",
       "      <td>M</td>\n",
       "      <td>M015</td>\n",
       "      <td>P.S. 015 Roberto Clemente</td>\n",
       "      <td>0K</td>\n",
       "      <td>GEN ED</td>\n",
       "      <td>-</td>\n",
       "      <td>-</td>\n",
       "      <td>-</td>\n",
       "      <td>19.0</td>\n",
       "      <td>1.0</td>\n",
       "      <td>19.0</td>\n",
       "      <td>19.0</td>\n",
       "      <td>19.0</td>\n",
       "      <td>ATS</td>\n",
       "      <td>NaN</td>\n",
       "    </tr>\n",
       "    <tr>\n",
       "      <td>1</td>\n",
       "      <td>1</td>\n",
       "      <td>M</td>\n",
       "      <td>M015</td>\n",
       "      <td>P.S. 015 Roberto Clemente</td>\n",
       "      <td>0K</td>\n",
       "      <td>CTT</td>\n",
       "      <td>-</td>\n",
       "      <td>-</td>\n",
       "      <td>-</td>\n",
       "      <td>21.0</td>\n",
       "      <td>1.0</td>\n",
       "      <td>21.0</td>\n",
       "      <td>21.0</td>\n",
       "      <td>21.0</td>\n",
       "      <td>ATS</td>\n",
       "      <td>NaN</td>\n",
       "    </tr>\n",
       "    <tr>\n",
       "      <td>2</td>\n",
       "      <td>1</td>\n",
       "      <td>M</td>\n",
       "      <td>M015</td>\n",
       "      <td>P.S. 015 Roberto Clemente</td>\n",
       "      <td>01</td>\n",
       "      <td>GEN ED</td>\n",
       "      <td>-</td>\n",
       "      <td>-</td>\n",
       "      <td>-</td>\n",
       "      <td>17.0</td>\n",
       "      <td>1.0</td>\n",
       "      <td>17.0</td>\n",
       "      <td>17.0</td>\n",
       "      <td>17.0</td>\n",
       "      <td>ATS</td>\n",
       "      <td>NaN</td>\n",
       "    </tr>\n",
       "    <tr>\n",
       "      <td>3</td>\n",
       "      <td>1</td>\n",
       "      <td>M</td>\n",
       "      <td>M015</td>\n",
       "      <td>P.S. 015 Roberto Clemente</td>\n",
       "      <td>01</td>\n",
       "      <td>CTT</td>\n",
       "      <td>-</td>\n",
       "      <td>-</td>\n",
       "      <td>-</td>\n",
       "      <td>17.0</td>\n",
       "      <td>1.0</td>\n",
       "      <td>17.0</td>\n",
       "      <td>17.0</td>\n",
       "      <td>17.0</td>\n",
       "      <td>ATS</td>\n",
       "      <td>NaN</td>\n",
       "    </tr>\n",
       "    <tr>\n",
       "      <td>4</td>\n",
       "      <td>1</td>\n",
       "      <td>M</td>\n",
       "      <td>M015</td>\n",
       "      <td>P.S. 015 Roberto Clemente</td>\n",
       "      <td>02</td>\n",
       "      <td>GEN ED</td>\n",
       "      <td>-</td>\n",
       "      <td>-</td>\n",
       "      <td>-</td>\n",
       "      <td>15.0</td>\n",
       "      <td>1.0</td>\n",
       "      <td>15.0</td>\n",
       "      <td>15.0</td>\n",
       "      <td>15.0</td>\n",
       "      <td>ATS</td>\n",
       "      <td>NaN</td>\n",
       "    </tr>\n",
       "  </tbody>\n",
       "</table>\n",
       "</div>"
      ],
      "text/plain": [
       "   CSD BOROUGH SCHOOL CODE                SCHOOL NAME GRADE  PROGRAM TYPE  \\\n",
       "0    1       M        M015  P.S. 015 Roberto Clemente     0K       GEN ED   \n",
       "1    1       M        M015  P.S. 015 Roberto Clemente     0K          CTT   \n",
       "2    1       M        M015  P.S. 015 Roberto Clemente     01       GEN ED   \n",
       "3    1       M        M015  P.S. 015 Roberto Clemente     01          CTT   \n",
       "4    1       M        M015  P.S. 015 Roberto Clemente     02       GEN ED   \n",
       "\n",
       "  CORE SUBJECT (MS CORE and 9-12 ONLY) CORE COURSE (MS CORE and 9-12 ONLY)  \\\n",
       "0                                    -                                   -   \n",
       "1                                    -                                   -   \n",
       "2                                    -                                   -   \n",
       "3                                    -                                   -   \n",
       "4                                    -                                   -   \n",
       "\n",
       "  SERVICE CATEGORY(K-9* ONLY)  NUMBER OF STUDENTS / SEATS FILLED  \\\n",
       "0                           -                               19.0   \n",
       "1                           -                               21.0   \n",
       "2                           -                               17.0   \n",
       "3                           -                               17.0   \n",
       "4                           -                               15.0   \n",
       "\n",
       "   NUMBER OF SECTIONS  AVERAGE CLASS SIZE  SIZE OF SMALLEST CLASS  \\\n",
       "0                 1.0                19.0                    19.0   \n",
       "1                 1.0                21.0                    21.0   \n",
       "2                 1.0                17.0                    17.0   \n",
       "3                 1.0                17.0                    17.0   \n",
       "4                 1.0                15.0                    15.0   \n",
       "\n",
       "   SIZE OF LARGEST CLASS DATA SOURCE  SCHOOLWIDE PUPIL-TEACHER RATIO  \n",
       "0                   19.0         ATS                             NaN  \n",
       "1                   21.0         ATS                             NaN  \n",
       "2                   17.0         ATS                             NaN  \n",
       "3                   17.0         ATS                             NaN  \n",
       "4                   15.0         ATS                             NaN  "
      ]
     },
     "execution_count": 67,
     "metadata": {},
     "output_type": "execute_result"
    }
   ],
   "source": [
    "data_dict[\"Class_Size\"].head()"
   ]
  },
  {
   "cell_type": "code",
   "execution_count": 68,
   "metadata": {
    "scrolled": true
   },
   "outputs": [
    {
     "name": "stdout",
     "output_type": "stream",
     "text": [
      "<class 'pandas.core.frame.DataFrame'>\n",
      "RangeIndex: 27611 entries, 0 to 27610\n",
      "Data columns (total 16 columns):\n",
      "CSD                                     27611 non-null int64\n",
      "BOROUGH                                 27611 non-null object\n",
      "SCHOOL CODE                             27611 non-null object\n",
      "SCHOOL NAME                             27611 non-null object\n",
      "GRADE                                   26127 non-null object\n",
      "PROGRAM TYPE                            26127 non-null object\n",
      "CORE SUBJECT (MS CORE and 9-12 ONLY)    26127 non-null object\n",
      "CORE COURSE (MS CORE and 9-12 ONLY)     26127 non-null object\n",
      "SERVICE CATEGORY(K-9* ONLY)             26127 non-null object\n",
      "NUMBER OF STUDENTS / SEATS FILLED       26127 non-null float64\n",
      "NUMBER OF SECTIONS                      26127 non-null float64\n",
      "AVERAGE CLASS SIZE                      26127 non-null float64\n",
      "SIZE OF SMALLEST CLASS                  26127 non-null float64\n",
      "SIZE OF LARGEST CLASS                   26127 non-null float64\n",
      "DATA SOURCE                             26127 non-null object\n",
      "SCHOOLWIDE PUPIL-TEACHER RATIO          1484 non-null float64\n",
      "dtypes: float64(6), int64(1), object(9)\n",
      "memory usage: 3.4+ MB\n"
     ]
    }
   ],
   "source": [
    "#Creating a DBN column on combining School Code and CSD columns\n",
    "data_dict[\"Class_Size\"].info()\n",
    "# CSD is an int type, we need to convert to string and combine with school code"
   ]
  },
  {
   "cell_type": "code",
   "execution_count": 71,
   "metadata": {},
   "outputs": [],
   "source": [
    "# since the CSD value in DBN is 2 characters, we have to append 0 to CSD whose length is 1 character\n",
    "def pre_zero(value):\n",
    "    csd_str = str(value)\n",
    "    if len(csd_str) > 1:\n",
    "        return csd_str\n",
    "    else:\n",
    "        return \"0\" + csd_str\n",
    "    \n",
    "data_dict[\"Class_Size\"][\"updated_csd\"] = data_dict[\"Class_Size\"][\"CSD\"].apply(pre_zero)\n",
    "# Now adding updated csd to school code to generate DBN value\n",
    "data_dict[\"Class_Size\"][\"DBN\"] = data_dict[\"Class_Size\"][\"updated_csd\"] + data_dict[\"Class_Size\"][\"SCHOOL CODE\"]\n"
   ]
  },
  {
   "cell_type": "code",
   "execution_count": 76,
   "metadata": {},
   "outputs": [
    {
     "data": {
      "text/plain": [
       "0        01M015\n",
       "1        01M015\n",
       "2        01M015\n",
       "3        01M015\n",
       "4        01M015\n",
       "          ...  \n",
       "27606    32K564\n",
       "27607    32K564\n",
       "27608    32K564\n",
       "27609    32K564\n",
       "27610    32K564\n",
       "Name: DBN, Length: 27611, dtype: object"
      ]
     },
     "execution_count": 76,
     "metadata": {},
     "output_type": "execute_result"
    }
   ],
   "source": [
    "data_dict[\"Class_Size\"][\"DBN\"]"
   ]
  },
  {
   "cell_type": "code",
   "execution_count": 79,
   "metadata": {},
   "outputs": [
    {
     "data": {
      "text/html": [
       "<div>\n",
       "<style scoped>\n",
       "    .dataframe tbody tr th:only-of-type {\n",
       "        vertical-align: middle;\n",
       "    }\n",
       "\n",
       "    .dataframe tbody tr th {\n",
       "        vertical-align: top;\n",
       "    }\n",
       "\n",
       "    .dataframe thead th {\n",
       "        text-align: right;\n",
       "    }\n",
       "</style>\n",
       "<table border=\"1\" class=\"dataframe\">\n",
       "  <thead>\n",
       "    <tr style=\"text-align: right;\">\n",
       "      <th></th>\n",
       "      <th>DBN</th>\n",
       "      <th>SCHOOL NAME</th>\n",
       "      <th>Num of SAT Test Takers</th>\n",
       "      <th>SAT Critical Reading Avg. Score</th>\n",
       "      <th>SAT Math Avg. Score</th>\n",
       "      <th>SAT Writing Avg. Score</th>\n",
       "    </tr>\n",
       "  </thead>\n",
       "  <tbody>\n",
       "    <tr>\n",
       "      <td>0</td>\n",
       "      <td>01M292</td>\n",
       "      <td>HENRY STREET SCHOOL FOR INTERNATIONAL STUDIES</td>\n",
       "      <td>29</td>\n",
       "      <td>355</td>\n",
       "      <td>404</td>\n",
       "      <td>363</td>\n",
       "    </tr>\n",
       "    <tr>\n",
       "      <td>1</td>\n",
       "      <td>01M448</td>\n",
       "      <td>UNIVERSITY NEIGHBORHOOD HIGH SCHOOL</td>\n",
       "      <td>91</td>\n",
       "      <td>383</td>\n",
       "      <td>423</td>\n",
       "      <td>366</td>\n",
       "    </tr>\n",
       "    <tr>\n",
       "      <td>2</td>\n",
       "      <td>01M450</td>\n",
       "      <td>EAST SIDE COMMUNITY SCHOOL</td>\n",
       "      <td>70</td>\n",
       "      <td>377</td>\n",
       "      <td>402</td>\n",
       "      <td>370</td>\n",
       "    </tr>\n",
       "    <tr>\n",
       "      <td>3</td>\n",
       "      <td>01M458</td>\n",
       "      <td>FORSYTH SATELLITE ACADEMY</td>\n",
       "      <td>7</td>\n",
       "      <td>414</td>\n",
       "      <td>401</td>\n",
       "      <td>359</td>\n",
       "    </tr>\n",
       "    <tr>\n",
       "      <td>4</td>\n",
       "      <td>01M509</td>\n",
       "      <td>MARTA VALLE HIGH SCHOOL</td>\n",
       "      <td>44</td>\n",
       "      <td>390</td>\n",
       "      <td>433</td>\n",
       "      <td>384</td>\n",
       "    </tr>\n",
       "  </tbody>\n",
       "</table>\n",
       "</div>"
      ],
      "text/plain": [
       "      DBN                                    SCHOOL NAME  \\\n",
       "0  01M292  HENRY STREET SCHOOL FOR INTERNATIONAL STUDIES   \n",
       "1  01M448            UNIVERSITY NEIGHBORHOOD HIGH SCHOOL   \n",
       "2  01M450                     EAST SIDE COMMUNITY SCHOOL   \n",
       "3  01M458                      FORSYTH SATELLITE ACADEMY   \n",
       "4  01M509                        MARTA VALLE HIGH SCHOOL   \n",
       "\n",
       "  Num of SAT Test Takers SAT Critical Reading Avg. Score SAT Math Avg. Score  \\\n",
       "0                     29                             355                 404   \n",
       "1                     91                             383                 423   \n",
       "2                     70                             377                 402   \n",
       "3                      7                             414                 401   \n",
       "4                     44                             390                 433   \n",
       "\n",
       "  SAT Writing Avg. Score  \n",
       "0                    363  \n",
       "1                    366  \n",
       "2                    370  \n",
       "3                    359  \n",
       "4                    384  "
      ]
     },
     "execution_count": 79,
     "metadata": {},
     "output_type": "execute_result"
    }
   ],
   "source": [
    "# In Sat_RESULTS dataset, we have scores for individual sections of SAT exam. Adding them to generate total SAT score\n",
    "data_dict['Sat_Result'].head()"
   ]
  },
  {
   "cell_type": "code",
   "execution_count": 80,
   "metadata": {},
   "outputs": [
    {
     "name": "stdout",
     "output_type": "stream",
     "text": [
      "<class 'pandas.core.frame.DataFrame'>\n",
      "RangeIndex: 478 entries, 0 to 477\n",
      "Data columns (total 6 columns):\n",
      "DBN                                478 non-null object\n",
      "SCHOOL NAME                        478 non-null object\n",
      "Num of SAT Test Takers             478 non-null object\n",
      "SAT Critical Reading Avg. Score    478 non-null object\n",
      "SAT Math Avg. Score                478 non-null object\n",
      "SAT Writing Avg. Score             478 non-null object\n",
      "dtypes: object(6)\n",
      "memory usage: 22.5+ KB\n"
     ]
    }
   ],
   "source": [
    "data_dict[\"Sat_Result\"].info()"
   ]
  },
  {
   "cell_type": "code",
   "execution_count": 103,
   "metadata": {},
   "outputs": [],
   "source": [
    "cols=[ 'SAT Critical Reading Avg. Score'\n",
    "      , 'SAT Math Avg. Score' ,'SAT Writing Avg. Score']\n",
    "\n",
    "for c in cols:\n",
    "    data_dict[\"Sat_Result\"][c] = pd.to_numeric(data_dict[\"Sat_Result\"][c], errors=\"coerce\")\n",
    "\n",
    "data_dict['Sat_Result']['sat_total'] = data_dict['Sat_Result'][cols[0]] + data_dict['Sat_Result'][cols[1]] + data_dict['Sat_Result'][cols[2]]\n"
   ]
  },
  {
   "cell_type": "code",
   "execution_count": 107,
   "metadata": {},
   "outputs": [
    {
     "data": {
      "text/html": [
       "<div>\n",
       "<style scoped>\n",
       "    .dataframe tbody tr th:only-of-type {\n",
       "        vertical-align: middle;\n",
       "    }\n",
       "\n",
       "    .dataframe tbody tr th {\n",
       "        vertical-align: top;\n",
       "    }\n",
       "\n",
       "    .dataframe thead th {\n",
       "        text-align: right;\n",
       "    }\n",
       "</style>\n",
       "<table border=\"1\" class=\"dataframe\">\n",
       "  <thead>\n",
       "    <tr style=\"text-align: right;\">\n",
       "      <th></th>\n",
       "      <th>DBN</th>\n",
       "      <th>SchoolName</th>\n",
       "      <th>AP Test Takers</th>\n",
       "      <th>Total Exams Taken</th>\n",
       "      <th>Number of Exams with scores 3 4 or 5</th>\n",
       "    </tr>\n",
       "  </thead>\n",
       "  <tbody>\n",
       "    <tr>\n",
       "      <td>0</td>\n",
       "      <td>01M448</td>\n",
       "      <td>UNIVERSITY NEIGHBORHOOD H.S.</td>\n",
       "      <td>39.0</td>\n",
       "      <td>49.0</td>\n",
       "      <td>10.0</td>\n",
       "    </tr>\n",
       "    <tr>\n",
       "      <td>1</td>\n",
       "      <td>01M450</td>\n",
       "      <td>EAST SIDE COMMUNITY HS</td>\n",
       "      <td>19.0</td>\n",
       "      <td>21.0</td>\n",
       "      <td>NaN</td>\n",
       "    </tr>\n",
       "    <tr>\n",
       "      <td>2</td>\n",
       "      <td>01M515</td>\n",
       "      <td>LOWER EASTSIDE PREP</td>\n",
       "      <td>24.0</td>\n",
       "      <td>26.0</td>\n",
       "      <td>24.0</td>\n",
       "    </tr>\n",
       "    <tr>\n",
       "      <td>3</td>\n",
       "      <td>01M539</td>\n",
       "      <td>NEW EXPLORATIONS SCI,TECH,MATH</td>\n",
       "      <td>255.0</td>\n",
       "      <td>377.0</td>\n",
       "      <td>191.0</td>\n",
       "    </tr>\n",
       "    <tr>\n",
       "      <td>4</td>\n",
       "      <td>02M296</td>\n",
       "      <td>High School of Hospitality Management</td>\n",
       "      <td>NaN</td>\n",
       "      <td>NaN</td>\n",
       "      <td>NaN</td>\n",
       "    </tr>\n",
       "  </tbody>\n",
       "</table>\n",
       "</div>"
      ],
      "text/plain": [
       "      DBN                             SchoolName  AP Test Takers   \\\n",
       "0  01M448           UNIVERSITY NEIGHBORHOOD H.S.             39.0   \n",
       "1  01M450                 EAST SIDE COMMUNITY HS             19.0   \n",
       "2  01M515                    LOWER EASTSIDE PREP             24.0   \n",
       "3  01M539         NEW EXPLORATIONS SCI,TECH,MATH            255.0   \n",
       "4  02M296  High School of Hospitality Management              NaN   \n",
       "\n",
       "   Total Exams Taken  Number of Exams with scores 3 4 or 5  \n",
       "0               49.0                                  10.0  \n",
       "1               21.0                                   NaN  \n",
       "2               26.0                                  24.0  \n",
       "3              377.0                                 191.0  \n",
       "4                NaN                                   NaN  "
      ]
     },
     "execution_count": 107,
     "metadata": {},
     "output_type": "execute_result"
    }
   ],
   "source": [
    "\n",
    "data_dict[\"ap_2010\"].head()"
   ]
  },
  {
   "cell_type": "code",
   "execution_count": 86,
   "metadata": {},
   "outputs": [],
   "source": [
    "#Finding the latitude and longitude\n",
    "import re\n",
    "def latitude(loc):\n",
    "    coords = re.findall(\"\\(.+, .+\\)\", loc)\n",
    "    lat = coords[0].split(\",\")[0].replace(\"(\", \"\")\n",
    "    return lat\n",
    "\n",
    "def longitude(loc):\n",
    "    coords = re.findall(\"\\(.+, .+\\)\", loc)\n",
    "    lon = coords[0].split(\",\")[1].replace(\")\", \"\").strip()\n",
    "    return lon\n",
    "\n",
    "data_dict[\"Hs_Directory\"][\"latitude\"] = data_dict[\"Hs_Directory\"][\"Location 1\"].apply(latitude)\n",
    "data_dict[\"Hs_Directory\"][\"longitude\"] = data_dict[\"Hs_Directory\"][\"Location 1\"].apply(longitude)\n"
   ]
  },
  {
   "cell_type": "code",
   "execution_count": 98,
   "metadata": {},
   "outputs": [
    {
     "data": {
      "text/html": [
       "<div>\n",
       "<style scoped>\n",
       "    .dataframe tbody tr th:only-of-type {\n",
       "        vertical-align: middle;\n",
       "    }\n",
       "\n",
       "    .dataframe tbody tr th {\n",
       "        vertical-align: top;\n",
       "    }\n",
       "\n",
       "    .dataframe thead th {\n",
       "        text-align: right;\n",
       "    }\n",
       "</style>\n",
       "<table border=\"1\" class=\"dataframe\">\n",
       "  <thead>\n",
       "    <tr style=\"text-align: right;\">\n",
       "      <th></th>\n",
       "      <th>DBN</th>\n",
       "      <th>school_name</th>\n",
       "      <th>borough</th>\n",
       "      <th>building_code</th>\n",
       "      <th>phone_number</th>\n",
       "      <th>fax_number</th>\n",
       "      <th>grade_span_min</th>\n",
       "      <th>grade_span_max</th>\n",
       "      <th>expgrade_span_min</th>\n",
       "      <th>expgrade_span_max</th>\n",
       "      <th>...</th>\n",
       "      <th>priority10</th>\n",
       "      <th>Location 1</th>\n",
       "      <th>Community Board</th>\n",
       "      <th>Council District</th>\n",
       "      <th>Census Tract</th>\n",
       "      <th>BIN</th>\n",
       "      <th>BBL</th>\n",
       "      <th>NTA</th>\n",
       "      <th>latitude</th>\n",
       "      <th>longitude</th>\n",
       "    </tr>\n",
       "  </thead>\n",
       "  <tbody>\n",
       "    <tr>\n",
       "      <td>0</td>\n",
       "      <td>21K540</td>\n",
       "      <td>John Dewey High School</td>\n",
       "      <td>Brooklyn</td>\n",
       "      <td>K540</td>\n",
       "      <td>718-373-6400</td>\n",
       "      <td>718-266-4385</td>\n",
       "      <td>9.0</td>\n",
       "      <td>12</td>\n",
       "      <td>NaN</td>\n",
       "      <td>NaN</td>\n",
       "      <td>...</td>\n",
       "      <td>NaN</td>\n",
       "      <td>50 Avenue\\nX Brooklyn, NY 11223\\n(40.589238098...</td>\n",
       "      <td>13.0</td>\n",
       "      <td>47.0</td>\n",
       "      <td>308.0</td>\n",
       "      <td>3194998.0</td>\n",
       "      <td>3.071850e+09</td>\n",
       "      <td>Gravesend                                     ...</td>\n",
       "      <td>40.589238098</td>\n",
       "      <td>-73.981746524</td>\n",
       "    </tr>\n",
       "    <tr>\n",
       "      <td>1</td>\n",
       "      <td>15K429</td>\n",
       "      <td>Brooklyn School for Global Studies</td>\n",
       "      <td>Brooklyn</td>\n",
       "      <td>K293</td>\n",
       "      <td>718-694-9741</td>\n",
       "      <td>718-694-9745</td>\n",
       "      <td>6.0</td>\n",
       "      <td>12</td>\n",
       "      <td>NaN</td>\n",
       "      <td>NaN</td>\n",
       "      <td>...</td>\n",
       "      <td>NaN</td>\n",
       "      <td>284 Baltic Street\\nBrooklyn, NY 11201\\n(40.685...</td>\n",
       "      <td>6.0</td>\n",
       "      <td>33.0</td>\n",
       "      <td>69.0</td>\n",
       "      <td>3006401.0</td>\n",
       "      <td>3.004020e+09</td>\n",
       "      <td>DUMBO-Vinegar Hill-Downtown Brooklyn-Boerum Hi...</td>\n",
       "      <td>40.685451806</td>\n",
       "      <td>-73.993491465</td>\n",
       "    </tr>\n",
       "    <tr>\n",
       "      <td>2</td>\n",
       "      <td>24Q530</td>\n",
       "      <td>International High School at LaGuardia Communi...</td>\n",
       "      <td>Queens</td>\n",
       "      <td>Q520</td>\n",
       "      <td>718-392-3433</td>\n",
       "      <td>718-392-3443</td>\n",
       "      <td>9.0</td>\n",
       "      <td>12</td>\n",
       "      <td>NaN</td>\n",
       "      <td>NaN</td>\n",
       "      <td>...</td>\n",
       "      <td>NaN</td>\n",
       "      <td>45 35 Van Dam Street\\nLong Island City, NY 111...</td>\n",
       "      <td>2.0</td>\n",
       "      <td>26.0</td>\n",
       "      <td>179.0</td>\n",
       "      <td>4003442.0</td>\n",
       "      <td>4.002490e+09</td>\n",
       "      <td>Hunters Point-Sunnyside-West Maspeth          ...</td>\n",
       "      <td>40.744149536</td>\n",
       "      <td>-73.933626741</td>\n",
       "    </tr>\n",
       "    <tr>\n",
       "      <td>3</td>\n",
       "      <td>05M367</td>\n",
       "      <td>Academy for Social Action: A College Board School</td>\n",
       "      <td>Manhattan</td>\n",
       "      <td>M043</td>\n",
       "      <td>212-234-3102</td>\n",
       "      <td>212-234-8597</td>\n",
       "      <td>9.0</td>\n",
       "      <td>12</td>\n",
       "      <td>NaN</td>\n",
       "      <td>NaN</td>\n",
       "      <td>...</td>\n",
       "      <td>NaN</td>\n",
       "      <td>509 West 129 Street\\nNew York, NY 10027\\n(40.8...</td>\n",
       "      <td>9.0</td>\n",
       "      <td>7.0</td>\n",
       "      <td>219.0</td>\n",
       "      <td>1059723.0</td>\n",
       "      <td>1.019840e+09</td>\n",
       "      <td>Manhattanville                                ...</td>\n",
       "      <td>40.815230365</td>\n",
       "      <td>-73.955201206</td>\n",
       "    </tr>\n",
       "    <tr>\n",
       "      <td>4</td>\n",
       "      <td>27Q260</td>\n",
       "      <td>Frederick Douglass Academy VI High School</td>\n",
       "      <td>Queens</td>\n",
       "      <td>Q465</td>\n",
       "      <td>718-471-2154</td>\n",
       "      <td>718-471-2890</td>\n",
       "      <td>9.0</td>\n",
       "      <td>12</td>\n",
       "      <td>NaN</td>\n",
       "      <td>NaN</td>\n",
       "      <td>...</td>\n",
       "      <td>NaN</td>\n",
       "      <td>8 21 Bay 25 Street\\nFar Rockaway, NY 11691\\n(4...</td>\n",
       "      <td>14.0</td>\n",
       "      <td>31.0</td>\n",
       "      <td>100802.0</td>\n",
       "      <td>4300730.0</td>\n",
       "      <td>4.157360e+09</td>\n",
       "      <td>Far Rockaway-Bayswater                        ...</td>\n",
       "      <td>40.601989336</td>\n",
       "      <td>-73.762834323</td>\n",
       "    </tr>\n",
       "  </tbody>\n",
       "</table>\n",
       "<p>5 rows × 66 columns</p>\n",
       "</div>"
      ],
      "text/plain": [
       "      DBN                                        school_name    borough  \\\n",
       "0  21K540                             John Dewey High School   Brooklyn   \n",
       "1  15K429                 Brooklyn School for Global Studies   Brooklyn   \n",
       "2  24Q530  International High School at LaGuardia Communi...     Queens   \n",
       "3  05M367  Academy for Social Action: A College Board School  Manhattan   \n",
       "4  27Q260          Frederick Douglass Academy VI High School     Queens   \n",
       "\n",
       "  building_code  phone_number    fax_number  grade_span_min  grade_span_max  \\\n",
       "0          K540  718-373-6400  718-266-4385             9.0              12   \n",
       "1          K293  718-694-9741  718-694-9745             6.0              12   \n",
       "2          Q520  718-392-3433  718-392-3443             9.0              12   \n",
       "3          M043  212-234-3102  212-234-8597             9.0              12   \n",
       "4          Q465  718-471-2154  718-471-2890             9.0              12   \n",
       "\n",
       "   expgrade_span_min  expgrade_span_max  ... priority10  \\\n",
       "0                NaN                NaN  ...        NaN   \n",
       "1                NaN                NaN  ...        NaN   \n",
       "2                NaN                NaN  ...        NaN   \n",
       "3                NaN                NaN  ...        NaN   \n",
       "4                NaN                NaN  ...        NaN   \n",
       "\n",
       "                                          Location 1 Community Board  \\\n",
       "0  50 Avenue\\nX Brooklyn, NY 11223\\n(40.589238098...            13.0   \n",
       "1  284 Baltic Street\\nBrooklyn, NY 11201\\n(40.685...             6.0   \n",
       "2  45 35 Van Dam Street\\nLong Island City, NY 111...             2.0   \n",
       "3  509 West 129 Street\\nNew York, NY 10027\\n(40.8...             9.0   \n",
       "4  8 21 Bay 25 Street\\nFar Rockaway, NY 11691\\n(4...            14.0   \n",
       "\n",
       "  Council District Census Tract        BIN           BBL  \\\n",
       "0             47.0        308.0  3194998.0  3.071850e+09   \n",
       "1             33.0         69.0  3006401.0  3.004020e+09   \n",
       "2             26.0        179.0  4003442.0  4.002490e+09   \n",
       "3              7.0        219.0  1059723.0  1.019840e+09   \n",
       "4             31.0     100802.0  4300730.0  4.157360e+09   \n",
       "\n",
       "                                                 NTA      latitude  \\\n",
       "0  Gravesend                                     ...  40.589238098   \n",
       "1  DUMBO-Vinegar Hill-Downtown Brooklyn-Boerum Hi...  40.685451806   \n",
       "2  Hunters Point-Sunnyside-West Maspeth          ...  40.744149536   \n",
       "3  Manhattanville                                ...  40.815230365   \n",
       "4  Far Rockaway-Bayswater                        ...  40.601989336   \n",
       "\n",
       "       longitude  \n",
       "0  -73.981746524  \n",
       "1  -73.993491465  \n",
       "2  -73.933626741  \n",
       "3  -73.955201206  \n",
       "4  -73.762834323  \n",
       "\n",
       "[5 rows x 66 columns]"
      ]
     },
     "execution_count": 98,
     "metadata": {},
     "output_type": "execute_result"
    }
   ],
   "source": [
    "data_dict[\"Hs_Directory\"].head()"
   ]
  },
  {
   "cell_type": "code",
   "execution_count": 99,
   "metadata": {},
   "outputs": [
    {
     "name": "stdout",
     "output_type": "stream",
     "text": [
      "<class 'pandas.core.frame.DataFrame'>\n",
      "RangeIndex: 435 entries, 0 to 434\n",
      "Data columns (total 66 columns):\n",
      "DBN                                 435 non-null object\n",
      "school_name                         435 non-null object\n",
      "borough                             435 non-null object\n",
      "building_code                       435 non-null object\n",
      "phone_number                        435 non-null object\n",
      "fax_number                          423 non-null object\n",
      "grade_span_min                      432 non-null float64\n",
      "grade_span_max                      435 non-null int64\n",
      "expgrade_span_min                   31 non-null float64\n",
      "expgrade_span_max                   33 non-null float64\n",
      "bus                                 434 non-null object\n",
      "subway                              358 non-null object\n",
      "primary_address_line_1              435 non-null object\n",
      "city                                435 non-null object\n",
      "state_code                          435 non-null object\n",
      "postcode                            435 non-null int64\n",
      "website                             430 non-null object\n",
      "total_students                      426 non-null float64\n",
      "campus_name                         217 non-null object\n",
      "school_type                         104 non-null object\n",
      "overview_paragraph                  434 non-null object\n",
      "program_highlights                  434 non-null object\n",
      "language_classes                    412 non-null object\n",
      "advancedplacement_courses           340 non-null object\n",
      "online_ap_courses                   64 non-null object\n",
      "online_language_courses             73 non-null object\n",
      "extracurricular_activities          435 non-null object\n",
      "psal_sports_boys                    373 non-null object\n",
      "psal_sports_girls                   373 non-null object\n",
      "psal_sports_coed                    147 non-null object\n",
      "school_sports                       297 non-null object\n",
      "partner_cbo                         354 non-null object\n",
      "partner_hospital                    196 non-null object\n",
      "partner_highered                    378 non-null object\n",
      "partner_cultural                    305 non-null object\n",
      "partner_nonprofit                   297 non-null object\n",
      "partner_corporate                   198 non-null object\n",
      "partner_financial                   72 non-null object\n",
      "partner_other                       188 non-null object\n",
      "addtl_info1                         354 non-null object\n",
      "addtl_info2                         229 non-null object\n",
      "start_time                          431 non-null object\n",
      "end_time                            431 non-null object\n",
      "se_services                         435 non-null object\n",
      "ell_programs                        435 non-null object\n",
      "school_accessibility_description    435 non-null object\n",
      "number_programs                     435 non-null int64\n",
      "priority01                          435 non-null object\n",
      "priority02                          352 non-null object\n",
      "priority03                          243 non-null object\n",
      "priority04                          177 non-null object\n",
      "priority05                          39 non-null object\n",
      "priority06                          17 non-null object\n",
      "priority07                          4 non-null object\n",
      "priority08                          1 non-null object\n",
      "priority09                          1 non-null object\n",
      "priority10                          1 non-null object\n",
      "Location 1                          435 non-null object\n",
      "Community Board                     432 non-null float64\n",
      "Council District                    432 non-null float64\n",
      "Census Tract                        432 non-null float64\n",
      "BIN                                 431 non-null float64\n",
      "BBL                                 431 non-null float64\n",
      "NTA                                 432 non-null object\n",
      "latitude                            435 non-null object\n",
      "longitude                           435 non-null object\n",
      "dtypes: float64(9), int64(3), object(54)\n",
      "memory usage: 224.4+ KB\n"
     ]
    }
   ],
   "source": [
    "data_dict[\"Hs_Directory\"].info()"
   ]
  },
  {
   "cell_type": "code",
   "execution_count": 100,
   "metadata": {},
   "outputs": [],
   "source": [
    "#converting longitude and latitide strings to numeric values\n",
    "\n",
    "data_dict[\"Hs_Directory\"][\"latitude\"] = pd.to_numeric(data_dict[\"Hs_Directory\"][\"latitude\"], errors=\"coerce\")\n",
    "data_dict[\"Hs_Directory\"][\"longitude\"] = pd.to_numeric(data_dict[\"Hs_Directory\"][\"longitude\"], errors=\"coerce\")"
   ]
  },
  {
   "cell_type": "code",
   "execution_count": 109,
   "metadata": {},
   "outputs": [
    {
     "data": {
      "text/html": [
       "<div>\n",
       "<style scoped>\n",
       "    .dataframe tbody tr th:only-of-type {\n",
       "        vertical-align: middle;\n",
       "    }\n",
       "\n",
       "    .dataframe tbody tr th {\n",
       "        vertical-align: top;\n",
       "    }\n",
       "\n",
       "    .dataframe thead th {\n",
       "        text-align: right;\n",
       "    }\n",
       "</style>\n",
       "<table border=\"1\" class=\"dataframe\">\n",
       "  <thead>\n",
       "    <tr style=\"text-align: right;\">\n",
       "      <th></th>\n",
       "      <th>CSD</th>\n",
       "      <th>BOROUGH</th>\n",
       "      <th>SCHOOL CODE</th>\n",
       "      <th>SCHOOL NAME</th>\n",
       "      <th>GRADE</th>\n",
       "      <th>PROGRAM TYPE</th>\n",
       "      <th>CORE SUBJECT (MS CORE and 9-12 ONLY)</th>\n",
       "      <th>CORE COURSE (MS CORE and 9-12 ONLY)</th>\n",
       "      <th>SERVICE CATEGORY(K-9* ONLY)</th>\n",
       "      <th>NUMBER OF STUDENTS / SEATS FILLED</th>\n",
       "      <th>NUMBER OF SECTIONS</th>\n",
       "      <th>AVERAGE CLASS SIZE</th>\n",
       "      <th>SIZE OF SMALLEST CLASS</th>\n",
       "      <th>SIZE OF LARGEST CLASS</th>\n",
       "      <th>DATA SOURCE</th>\n",
       "      <th>SCHOOLWIDE PUPIL-TEACHER RATIO</th>\n",
       "      <th>updated_csd</th>\n",
       "      <th>DBN</th>\n",
       "    </tr>\n",
       "  </thead>\n",
       "  <tbody>\n",
       "    <tr>\n",
       "      <td>0</td>\n",
       "      <td>1</td>\n",
       "      <td>M</td>\n",
       "      <td>M015</td>\n",
       "      <td>P.S. 015 Roberto Clemente</td>\n",
       "      <td>0K</td>\n",
       "      <td>GEN ED</td>\n",
       "      <td>-</td>\n",
       "      <td>-</td>\n",
       "      <td>-</td>\n",
       "      <td>19.0</td>\n",
       "      <td>1.0</td>\n",
       "      <td>19.0</td>\n",
       "      <td>19.0</td>\n",
       "      <td>19.0</td>\n",
       "      <td>ATS</td>\n",
       "      <td>NaN</td>\n",
       "      <td>01</td>\n",
       "      <td>01M015</td>\n",
       "    </tr>\n",
       "    <tr>\n",
       "      <td>1</td>\n",
       "      <td>1</td>\n",
       "      <td>M</td>\n",
       "      <td>M015</td>\n",
       "      <td>P.S. 015 Roberto Clemente</td>\n",
       "      <td>0K</td>\n",
       "      <td>CTT</td>\n",
       "      <td>-</td>\n",
       "      <td>-</td>\n",
       "      <td>-</td>\n",
       "      <td>21.0</td>\n",
       "      <td>1.0</td>\n",
       "      <td>21.0</td>\n",
       "      <td>21.0</td>\n",
       "      <td>21.0</td>\n",
       "      <td>ATS</td>\n",
       "      <td>NaN</td>\n",
       "      <td>01</td>\n",
       "      <td>01M015</td>\n",
       "    </tr>\n",
       "    <tr>\n",
       "      <td>2</td>\n",
       "      <td>1</td>\n",
       "      <td>M</td>\n",
       "      <td>M015</td>\n",
       "      <td>P.S. 015 Roberto Clemente</td>\n",
       "      <td>01</td>\n",
       "      <td>GEN ED</td>\n",
       "      <td>-</td>\n",
       "      <td>-</td>\n",
       "      <td>-</td>\n",
       "      <td>17.0</td>\n",
       "      <td>1.0</td>\n",
       "      <td>17.0</td>\n",
       "      <td>17.0</td>\n",
       "      <td>17.0</td>\n",
       "      <td>ATS</td>\n",
       "      <td>NaN</td>\n",
       "      <td>01</td>\n",
       "      <td>01M015</td>\n",
       "    </tr>\n",
       "    <tr>\n",
       "      <td>3</td>\n",
       "      <td>1</td>\n",
       "      <td>M</td>\n",
       "      <td>M015</td>\n",
       "      <td>P.S. 015 Roberto Clemente</td>\n",
       "      <td>01</td>\n",
       "      <td>CTT</td>\n",
       "      <td>-</td>\n",
       "      <td>-</td>\n",
       "      <td>-</td>\n",
       "      <td>17.0</td>\n",
       "      <td>1.0</td>\n",
       "      <td>17.0</td>\n",
       "      <td>17.0</td>\n",
       "      <td>17.0</td>\n",
       "      <td>ATS</td>\n",
       "      <td>NaN</td>\n",
       "      <td>01</td>\n",
       "      <td>01M015</td>\n",
       "    </tr>\n",
       "    <tr>\n",
       "      <td>4</td>\n",
       "      <td>1</td>\n",
       "      <td>M</td>\n",
       "      <td>M015</td>\n",
       "      <td>P.S. 015 Roberto Clemente</td>\n",
       "      <td>02</td>\n",
       "      <td>GEN ED</td>\n",
       "      <td>-</td>\n",
       "      <td>-</td>\n",
       "      <td>-</td>\n",
       "      <td>15.0</td>\n",
       "      <td>1.0</td>\n",
       "      <td>15.0</td>\n",
       "      <td>15.0</td>\n",
       "      <td>15.0</td>\n",
       "      <td>ATS</td>\n",
       "      <td>NaN</td>\n",
       "      <td>01</td>\n",
       "      <td>01M015</td>\n",
       "    </tr>\n",
       "  </tbody>\n",
       "</table>\n",
       "</div>"
      ],
      "text/plain": [
       "   CSD BOROUGH SCHOOL CODE                SCHOOL NAME GRADE  PROGRAM TYPE  \\\n",
       "0    1       M        M015  P.S. 015 Roberto Clemente     0K       GEN ED   \n",
       "1    1       M        M015  P.S. 015 Roberto Clemente     0K          CTT   \n",
       "2    1       M        M015  P.S. 015 Roberto Clemente     01       GEN ED   \n",
       "3    1       M        M015  P.S. 015 Roberto Clemente     01          CTT   \n",
       "4    1       M        M015  P.S. 015 Roberto Clemente     02       GEN ED   \n",
       "\n",
       "  CORE SUBJECT (MS CORE and 9-12 ONLY) CORE COURSE (MS CORE and 9-12 ONLY)  \\\n",
       "0                                    -                                   -   \n",
       "1                                    -                                   -   \n",
       "2                                    -                                   -   \n",
       "3                                    -                                   -   \n",
       "4                                    -                                   -   \n",
       "\n",
       "  SERVICE CATEGORY(K-9* ONLY)  NUMBER OF STUDENTS / SEATS FILLED  \\\n",
       "0                           -                               19.0   \n",
       "1                           -                               21.0   \n",
       "2                           -                               17.0   \n",
       "3                           -                               17.0   \n",
       "4                           -                               15.0   \n",
       "\n",
       "   NUMBER OF SECTIONS  AVERAGE CLASS SIZE  SIZE OF SMALLEST CLASS  \\\n",
       "0                 1.0                19.0                    19.0   \n",
       "1                 1.0                21.0                    21.0   \n",
       "2                 1.0                17.0                    17.0   \n",
       "3                 1.0                17.0                    17.0   \n",
       "4                 1.0                15.0                    15.0   \n",
       "\n",
       "   SIZE OF LARGEST CLASS DATA SOURCE  SCHOOLWIDE PUPIL-TEACHER RATIO  \\\n",
       "0                   19.0         ATS                             NaN   \n",
       "1                   21.0         ATS                             NaN   \n",
       "2                   17.0         ATS                             NaN   \n",
       "3                   17.0         ATS                             NaN   \n",
       "4                   15.0         ATS                             NaN   \n",
       "\n",
       "  updated_csd     DBN  \n",
       "0          01  01M015  \n",
       "1          01  01M015  \n",
       "2          01  01M015  \n",
       "3          01  01M015  \n",
       "4          01  01M015  "
      ]
     },
     "execution_count": 109,
     "metadata": {},
     "output_type": "execute_result"
    }
   ],
   "source": [
    "data_dict[\"Class_Size\"].head()"
   ]
  },
  {
   "cell_type": "code",
   "execution_count": 110,
   "metadata": {},
   "outputs": [
    {
     "name": "stdout",
     "output_type": "stream",
     "text": [
      "<class 'pandas.core.frame.DataFrame'>\n",
      "RangeIndex: 27611 entries, 0 to 27610\n",
      "Data columns (total 18 columns):\n",
      "CSD                                     27611 non-null int64\n",
      "BOROUGH                                 27611 non-null object\n",
      "SCHOOL CODE                             27611 non-null object\n",
      "SCHOOL NAME                             27611 non-null object\n",
      "GRADE                                   26127 non-null object\n",
      "PROGRAM TYPE                            26127 non-null object\n",
      "CORE SUBJECT (MS CORE and 9-12 ONLY)    26127 non-null object\n",
      "CORE COURSE (MS CORE and 9-12 ONLY)     26127 non-null object\n",
      "SERVICE CATEGORY(K-9* ONLY)             26127 non-null object\n",
      "NUMBER OF STUDENTS / SEATS FILLED       26127 non-null float64\n",
      "NUMBER OF SECTIONS                      26127 non-null float64\n",
      "AVERAGE CLASS SIZE                      26127 non-null float64\n",
      "SIZE OF SMALLEST CLASS                  26127 non-null float64\n",
      "SIZE OF LARGEST CLASS                   26127 non-null float64\n",
      "DATA SOURCE                             26127 non-null object\n",
      "SCHOOLWIDE PUPIL-TEACHER RATIO          1484 non-null float64\n",
      "updated_csd                             27611 non-null object\n",
      "DBN                                     27611 non-null object\n",
      "dtypes: float64(6), int64(1), object(11)\n",
      "memory usage: 3.8+ MB\n"
     ]
    }
   ],
   "source": [
    "data_dict[\"Class_Size\"].info()"
   ]
  },
  {
   "cell_type": "code",
   "execution_count": 111,
   "metadata": {},
   "outputs": [
    {
     "name": "stdout",
     "output_type": "stream",
     "text": [
      "<class 'pandas.core.frame.DataFrame'>\n",
      "RangeIndex: 27611 entries, 0 to 27610\n",
      "Data columns (total 18 columns):\n",
      "CSD                                     27611 non-null int64\n",
      "BOROUGH                                 27611 non-null object\n",
      "SCHOOL CODE                             27611 non-null object\n",
      "SCHOOL NAME                             27611 non-null object\n",
      "GRADE                                   26127 non-null object\n",
      "PROGRAM TYPE                            26127 non-null object\n",
      "CORE SUBJECT (MS CORE and 9-12 ONLY)    26127 non-null object\n",
      "CORE COURSE (MS CORE and 9-12 ONLY)     26127 non-null object\n",
      "SERVICE CATEGORY(K-9* ONLY)             26127 non-null object\n",
      "NUMBER OF STUDENTS / SEATS FILLED       26127 non-null float64\n",
      "NUMBER OF SECTIONS                      26127 non-null float64\n",
      "AVERAGE CLASS SIZE                      26127 non-null float64\n",
      "SIZE OF SMALLEST CLASS                  26127 non-null float64\n",
      "SIZE OF LARGEST CLASS                   26127 non-null float64\n",
      "DATA SOURCE                             26127 non-null object\n",
      "SCHOOLWIDE PUPIL-TEACHER RATIO          1484 non-null float64\n",
      "updated_csd                             27611 non-null object\n",
      "DBN                                     27611 non-null object\n",
      "dtypes: float64(6), int64(1), object(11)\n",
      "memory usage: 3.8+ MB\n"
     ]
    }
   ],
   "source": [
    "data_dict[\"Class_Size\"].info()"
   ]
  },
  {
   "cell_type": "code",
   "execution_count": 114,
   "metadata": {},
   "outputs": [],
   "source": [
    "# Filtering the class size data to include only high school(Grade 9 to 12) and GEN ED students\n",
    "import numpy as np\n",
    "\n",
    "class_size = data_dict[\"Class_Size\"]\n",
    "class_size = class_size[class_size[\"GRADE \"] == \"09-12\"]\n",
    "class_size = class_size[class_size[\"PROGRAM TYPE\"] == \"GEN ED\"]\n",
    "\n",
    "class_size = class_size.groupby(\"DBN\").agg(np.mean)\n",
    "class_size.reset_index(inplace=True)\n",
    "data_dict[\"Class_Size\"] = class_size"
   ]
  },
  {
   "cell_type": "code",
   "execution_count": 115,
   "metadata": {},
   "outputs": [
    {
     "name": "stdout",
     "output_type": "stream",
     "text": [
      "<class 'pandas.core.frame.DataFrame'>\n",
      "RangeIndex: 583 entries, 0 to 582\n",
      "Data columns (total 8 columns):\n",
      "DBN                                  583 non-null object\n",
      "CSD                                  583 non-null int64\n",
      "NUMBER OF STUDENTS / SEATS FILLED    583 non-null float64\n",
      "NUMBER OF SECTIONS                   583 non-null float64\n",
      "AVERAGE CLASS SIZE                   583 non-null float64\n",
      "SIZE OF SMALLEST CLASS               583 non-null float64\n",
      "SIZE OF LARGEST CLASS                583 non-null float64\n",
      "SCHOOLWIDE PUPIL-TEACHER RATIO       0 non-null float64\n",
      "dtypes: float64(6), int64(1), object(1)\n",
      "memory usage: 36.6+ KB\n"
     ]
    }
   ],
   "source": [
    "data_dict[\"Class_Size\"].info()"
   ]
  },
  {
   "cell_type": "code",
   "execution_count": 116,
   "metadata": {},
   "outputs": [],
   "source": [
    "data_dict[\"Demographics\"] = data_dict[\"Demographics\"][data_dict[\"Demographics\"][\"schoolyear\"] == 20112012]\n",
    "\n",
    "data_dict[\"Graduation\"] = data_dict[\"Graduation\"][data_dict[\"Graduation\"][\"Cohort\"] == \"2006\"]\n",
    "data_dict[\"Graduation\"] = data_dict[\"Graduation\"][data_dict[\"Graduation\"][\"Demographic\"] == \"Total Cohort\"]\n"
   ]
  },
  {
   "cell_type": "code",
   "execution_count": 119,
   "metadata": {},
   "outputs": [],
   "source": [
    "# Combining data sets\n",
    "combined = data_dict[\"Sat_Result\"]\n",
    "combined = combined.merge(data_dict[\"ap_2010\"], on=\"DBN\", how=\"left\")\n",
    "combined = combined.merge(data_dict[\"Graduation\"], on=\"DBN\", how=\"left\")\n",
    "\n",
    "to_merge = [\"Class_Size\", \"Demographics\", \"survey\", \"Hs_Directory\"]\n",
    "\n",
    "for ds in to_merge:\n",
    "    combined = combined.merge(data_dict[ds], on=\"DBN\", how=\"inner\")\n",
    "\n",
    "combined = combined.fillna(combined.mean())\n",
    "combined = combined.fillna(0)"
   ]
  },
  {
   "cell_type": "code",
   "execution_count": 124,
   "metadata": {},
   "outputs": [
    {
     "name": "stdout",
     "output_type": "stream",
     "text": [
      "<class 'pandas.core.frame.DataFrame'>\n",
      "Int64Index: 363 entries, 0 to 362\n",
      "Columns: 164 entries, DBN to longitude\n",
      "dtypes: float64(69), int64(16), object(79)\n",
      "memory usage: 467.9+ KB\n"
     ]
    }
   ],
   "source": [
    "combined.info()"
   ]
  },
  {
   "cell_type": "code",
   "execution_count": 125,
   "metadata": {},
   "outputs": [],
   "source": [
    "# adding a school district column\n",
    "\n",
    "def school_dist(dbn):\n",
    "    return dbn[0:2]\n",
    "\n",
    "combined[\"school_dist\"] = combined[\"DBN\"].apply(school_dist)"
   ]
  },
  {
   "cell_type": "code",
   "execution_count": 126,
   "metadata": {},
   "outputs": [
    {
     "data": {
      "text/html": [
       "<div>\n",
       "<style scoped>\n",
       "    .dataframe tbody tr th:only-of-type {\n",
       "        vertical-align: middle;\n",
       "    }\n",
       "\n",
       "    .dataframe tbody tr th {\n",
       "        vertical-align: top;\n",
       "    }\n",
       "\n",
       "    .dataframe thead th {\n",
       "        text-align: right;\n",
       "    }\n",
       "</style>\n",
       "<table border=\"1\" class=\"dataframe\">\n",
       "  <thead>\n",
       "    <tr style=\"text-align: right;\">\n",
       "      <th></th>\n",
       "      <th>DBN</th>\n",
       "      <th>SCHOOL NAME</th>\n",
       "      <th>Num of SAT Test Takers</th>\n",
       "      <th>SAT Critical Reading Avg. Score</th>\n",
       "      <th>SAT Math Avg. Score</th>\n",
       "      <th>SAT Writing Avg. Score</th>\n",
       "      <th>sat_total</th>\n",
       "      <th>SchoolName</th>\n",
       "      <th>AP Test Takers</th>\n",
       "      <th>Total Exams Taken</th>\n",
       "      <th>...</th>\n",
       "      <th>Location 1</th>\n",
       "      <th>Community Board</th>\n",
       "      <th>Council District</th>\n",
       "      <th>Census Tract</th>\n",
       "      <th>BIN</th>\n",
       "      <th>BBL</th>\n",
       "      <th>NTA</th>\n",
       "      <th>latitude</th>\n",
       "      <th>longitude</th>\n",
       "      <th>school_dist</th>\n",
       "    </tr>\n",
       "  </thead>\n",
       "  <tbody>\n",
       "    <tr>\n",
       "      <td>0</td>\n",
       "      <td>01M292</td>\n",
       "      <td>HENRY STREET SCHOOL FOR INTERNATIONAL STUDIES</td>\n",
       "      <td>29</td>\n",
       "      <td>355.0</td>\n",
       "      <td>404.0</td>\n",
       "      <td>363.0</td>\n",
       "      <td>1122.0</td>\n",
       "      <td>0</td>\n",
       "      <td>129.028846</td>\n",
       "      <td>197.038462</td>\n",
       "      <td>...</td>\n",
       "      <td>220 Henry Street\\nNew York, NY 10002\\n(40.7137...</td>\n",
       "      <td>3.0</td>\n",
       "      <td>1.0</td>\n",
       "      <td>201.0</td>\n",
       "      <td>1003223.0</td>\n",
       "      <td>1.002690e+09</td>\n",
       "      <td>Lower East Side                               ...</td>\n",
       "      <td>40.713764</td>\n",
       "      <td>-73.985260</td>\n",
       "      <td>01</td>\n",
       "    </tr>\n",
       "    <tr>\n",
       "      <td>1</td>\n",
       "      <td>01M448</td>\n",
       "      <td>UNIVERSITY NEIGHBORHOOD HIGH SCHOOL</td>\n",
       "      <td>91</td>\n",
       "      <td>383.0</td>\n",
       "      <td>423.0</td>\n",
       "      <td>366.0</td>\n",
       "      <td>1172.0</td>\n",
       "      <td>UNIVERSITY NEIGHBORHOOD H.S.</td>\n",
       "      <td>39.000000</td>\n",
       "      <td>49.000000</td>\n",
       "      <td>...</td>\n",
       "      <td>200 Monroe Street\\nNew York, NY 10002\\n(40.712...</td>\n",
       "      <td>3.0</td>\n",
       "      <td>1.0</td>\n",
       "      <td>202.0</td>\n",
       "      <td>1003214.0</td>\n",
       "      <td>1.002590e+09</td>\n",
       "      <td>Lower East Side                               ...</td>\n",
       "      <td>40.712332</td>\n",
       "      <td>-73.984797</td>\n",
       "      <td>01</td>\n",
       "    </tr>\n",
       "    <tr>\n",
       "      <td>2</td>\n",
       "      <td>01M450</td>\n",
       "      <td>EAST SIDE COMMUNITY SCHOOL</td>\n",
       "      <td>70</td>\n",
       "      <td>377.0</td>\n",
       "      <td>402.0</td>\n",
       "      <td>370.0</td>\n",
       "      <td>1149.0</td>\n",
       "      <td>EAST SIDE COMMUNITY HS</td>\n",
       "      <td>19.000000</td>\n",
       "      <td>21.000000</td>\n",
       "      <td>...</td>\n",
       "      <td>420 East 12 Street\\nNew York, NY 10009\\n(40.72...</td>\n",
       "      <td>3.0</td>\n",
       "      <td>2.0</td>\n",
       "      <td>34.0</td>\n",
       "      <td>1005974.0</td>\n",
       "      <td>1.004390e+09</td>\n",
       "      <td>East Village                                  ...</td>\n",
       "      <td>40.729783</td>\n",
       "      <td>-73.983041</td>\n",
       "      <td>01</td>\n",
       "    </tr>\n",
       "    <tr>\n",
       "      <td>3</td>\n",
       "      <td>01M509</td>\n",
       "      <td>MARTA VALLE HIGH SCHOOL</td>\n",
       "      <td>44</td>\n",
       "      <td>390.0</td>\n",
       "      <td>433.0</td>\n",
       "      <td>384.0</td>\n",
       "      <td>1207.0</td>\n",
       "      <td>0</td>\n",
       "      <td>129.028846</td>\n",
       "      <td>197.038462</td>\n",
       "      <td>...</td>\n",
       "      <td>145 Stanton Street\\nNew York, NY 10002\\n(40.72...</td>\n",
       "      <td>3.0</td>\n",
       "      <td>1.0</td>\n",
       "      <td>3001.0</td>\n",
       "      <td>1004323.0</td>\n",
       "      <td>1.003540e+09</td>\n",
       "      <td>Chinatown                                     ...</td>\n",
       "      <td>40.720569</td>\n",
       "      <td>-73.985673</td>\n",
       "      <td>01</td>\n",
       "    </tr>\n",
       "    <tr>\n",
       "      <td>4</td>\n",
       "      <td>01M539</td>\n",
       "      <td>NEW EXPLORATIONS INTO SCIENCE, TECHNOLOGY AND ...</td>\n",
       "      <td>159</td>\n",
       "      <td>522.0</td>\n",
       "      <td>574.0</td>\n",
       "      <td>525.0</td>\n",
       "      <td>1621.0</td>\n",
       "      <td>NEW EXPLORATIONS SCI,TECH,MATH</td>\n",
       "      <td>255.000000</td>\n",
       "      <td>377.000000</td>\n",
       "      <td>...</td>\n",
       "      <td>111 Columbia Street\\nNew York, NY 10002\\n(40.7...</td>\n",
       "      <td>3.0</td>\n",
       "      <td>2.0</td>\n",
       "      <td>2201.0</td>\n",
       "      <td>1004070.0</td>\n",
       "      <td>1.003350e+09</td>\n",
       "      <td>Lower East Side                               ...</td>\n",
       "      <td>40.718725</td>\n",
       "      <td>-73.979426</td>\n",
       "      <td>01</td>\n",
       "    </tr>\n",
       "  </tbody>\n",
       "</table>\n",
       "<p>5 rows × 165 columns</p>\n",
       "</div>"
      ],
      "text/plain": [
       "      DBN                                        SCHOOL NAME  \\\n",
       "0  01M292      HENRY STREET SCHOOL FOR INTERNATIONAL STUDIES   \n",
       "1  01M448                UNIVERSITY NEIGHBORHOOD HIGH SCHOOL   \n",
       "2  01M450                         EAST SIDE COMMUNITY SCHOOL   \n",
       "3  01M509                            MARTA VALLE HIGH SCHOOL   \n",
       "4  01M539  NEW EXPLORATIONS INTO SCIENCE, TECHNOLOGY AND ...   \n",
       "\n",
       "  Num of SAT Test Takers  SAT Critical Reading Avg. Score  \\\n",
       "0                     29                            355.0   \n",
       "1                     91                            383.0   \n",
       "2                     70                            377.0   \n",
       "3                     44                            390.0   \n",
       "4                    159                            522.0   \n",
       "\n",
       "   SAT Math Avg. Score  SAT Writing Avg. Score  sat_total  \\\n",
       "0                404.0                   363.0     1122.0   \n",
       "1                423.0                   366.0     1172.0   \n",
       "2                402.0                   370.0     1149.0   \n",
       "3                433.0                   384.0     1207.0   \n",
       "4                574.0                   525.0     1621.0   \n",
       "\n",
       "                       SchoolName  AP Test Takers   Total Exams Taken  ...  \\\n",
       "0                               0       129.028846         197.038462  ...   \n",
       "1    UNIVERSITY NEIGHBORHOOD H.S.        39.000000          49.000000  ...   \n",
       "2          EAST SIDE COMMUNITY HS        19.000000          21.000000  ...   \n",
       "3                               0       129.028846         197.038462  ...   \n",
       "4  NEW EXPLORATIONS SCI,TECH,MATH       255.000000         377.000000  ...   \n",
       "\n",
       "                                          Location 1 Community Board  \\\n",
       "0  220 Henry Street\\nNew York, NY 10002\\n(40.7137...             3.0   \n",
       "1  200 Monroe Street\\nNew York, NY 10002\\n(40.712...             3.0   \n",
       "2  420 East 12 Street\\nNew York, NY 10009\\n(40.72...             3.0   \n",
       "3  145 Stanton Street\\nNew York, NY 10002\\n(40.72...             3.0   \n",
       "4  111 Columbia Street\\nNew York, NY 10002\\n(40.7...             3.0   \n",
       "\n",
       "  Council District Census Tract        BIN           BBL  \\\n",
       "0              1.0        201.0  1003223.0  1.002690e+09   \n",
       "1              1.0        202.0  1003214.0  1.002590e+09   \n",
       "2              2.0         34.0  1005974.0  1.004390e+09   \n",
       "3              1.0       3001.0  1004323.0  1.003540e+09   \n",
       "4              2.0       2201.0  1004070.0  1.003350e+09   \n",
       "\n",
       "                                                 NTA   latitude  longitude  \\\n",
       "0  Lower East Side                               ...  40.713764 -73.985260   \n",
       "1  Lower East Side                               ...  40.712332 -73.984797   \n",
       "2  East Village                                  ...  40.729783 -73.983041   \n",
       "3  Chinatown                                     ...  40.720569 -73.985673   \n",
       "4  Lower East Side                               ...  40.718725 -73.979426   \n",
       "\n",
       "   school_dist  \n",
       "0           01  \n",
       "1           01  \n",
       "2           01  \n",
       "3           01  \n",
       "4           01  \n",
       "\n",
       "[5 rows x 165 columns]"
      ]
     },
     "execution_count": 126,
     "metadata": {},
     "output_type": "execute_result"
    }
   ],
   "source": [
    "combined.head()"
   ]
  },
  {
   "cell_type": "code",
   "execution_count": 129,
   "metadata": {},
   "outputs": [
    {
     "name": "stdout",
     "output_type": "stream",
     "text": [
      "SAT Critical Reading Avg. Score    0.99\n",
      "SAT Math Avg. Score                0.97\n",
      "SAT Writing Avg. Score             0.99\n",
      "sat_total                          1.00\n",
      "AP Test Takers                     0.52\n",
      "                                   ... \n",
      "Census Tract                       0.05\n",
      "BIN                                0.05\n",
      "BBL                                0.04\n",
      "latitude                          -0.12\n",
      "longitude                         -0.13\n",
      "Name: sat_total, Length: 85, dtype: float64\n"
     ]
    }
   ],
   "source": [
    "# Finding correlations\n",
    "\n",
    "correlations = combined.corr()\n",
    "correlations = correlations[\"sat_total\"]\n",
    "print(round(correlations,2))\n",
    "\n"
   ]
  },
  {
   "cell_type": "markdown",
   "metadata": {},
   "source": [
    "# Visualizing Survey correlations\n"
   ]
  },
  {
   "cell_type": "code",
   "execution_count": 130,
   "metadata": {},
   "outputs": [],
   "source": [
    "# Excluding DBN since it is not a useful numerical value for correlation.\n",
    "survey_cols.remove(\"DBN\")"
   ]
  },
  {
   "cell_type": "code",
   "execution_count": 133,
   "metadata": {},
   "outputs": [
    {
     "data": {
      "image/png": "[encoded data removed]",
      "text/plain": [
       "<Figure size 432x288 with 1 Axes>"
      ]
     },
     "metadata": {
      "needs_background": "light"
     },
     "output_type": "display_data"
    }
   ],
   "source": [
    "import matplotlib.pyplot as plt\n",
    "%matplotlib inline\n",
    "combined.corr()[\"sat_total\"][survey_cols].plot.bar()\n",
    "plt.show()"
   ]
  },
  {
   "cell_type": "markdown",
   "metadata": {},
   "source": [
    "High correlations between N_s, N_t, N_p and sat_score. Since these columns are correlated with total_enrollment, it makes sense that they would be high.\n",
    "\n",
    "How students and teachers percieved safety (saf_t_11 and saf_s_11) correlate with sat_score. This make sense, as it's hard to teach or learn in an unsafe environment.\n",
    "\n",
    "The students preception of academic standards(aca_s_11) correlates highlly with sat score, however, this is not true for aca_t_11, how teachers perceive academic standards, or aca_p_11, how parents perceive academic standards."
   ]
  },
  {
   "cell_type": "markdown",
   "metadata": {},
   "source": [
    "# Plotting Safety"
   ]
  },
  {
   "cell_type": "code",
   "execution_count": 135,
   "metadata": {},
   "outputs": [
    {
     "data": {
      "text/plain": [
       "<matplotlib.axes._subplots.AxesSubplot at 0x24827d101c8>"
      ]
     },
     "execution_count": 135,
     "metadata": {},
     "output_type": "execute_result"
    },
    {
     "data": {
      "image/png": "[encoded data removed]",
      "text/plain": [
       "<Figure size 432x288 with 1 Axes>"
      ]
     },
     "metadata": {
      "needs_background": "light"
     },
     "output_type": "display_data"
    }
   ],
   "source": [
    "combined.plot.scatter(\"saf_s_11\", \"sat_total\")\n"
   ]
  },
  {
   "cell_type": "markdown",
   "metadata": {},
   "source": [
    "There is a sufficient correlation between safety and sat total score. There is no school with a safety score lower than 6.5 has an average SAT score higher than 1500."
   ]
  },
  {
   "cell_type": "markdown",
   "metadata": {},
   "source": [
    "# Correlation with race"
   ]
  },
  {
   "cell_type": "code",
   "execution_count": 140,
   "metadata": {},
   "outputs": [
    {
     "data": {
      "image/png": "[encoded data removed]",
      "text/plain": [
       "<Figure size 432x288 with 1 Axes>"
      ]
     },
     "metadata": {
      "needs_background": "light"
     },
     "output_type": "display_data"
    }
   ],
   "source": [
    "races = [\"white_per\", \"asian_per\", \"black_per\", \"hispanic_per\"]\n",
    "combined.corr()[\"sat_total\"][races].plot.bar()\n",
    "plt.show()"
   ]
  },
  {
   "cell_type": "markdown",
   "metadata": {},
   "source": [
    "Higher percentage of white or asian students at a school correlates positively with sat score, and a higher percentage of black or hispanic students correlates negatively with sat score."
   ]
  },
  {
   "cell_type": "markdown",
   "metadata": {},
   "source": [
    "# Gender differences in SAT score"
   ]
  },
  {
   "cell_type": "code",
   "execution_count": 141,
   "metadata": {},
   "outputs": [
    {
     "data": {
      "image/png": "[encoded data removed]",
      "text/plain": [
       "<Figure size 432x288 with 1 Axes>"
      ]
     },
     "metadata": {
      "needs_background": "light"
     },
     "output_type": "display_data"
    }
   ],
   "source": [
    "genders = [\"male_per\",\"female_per\"]\n",
    "combined.corr()[\"sat_total\"][genders].plot.bar()\n",
    "plt.show()"
   ]
  },
  {
   "cell_type": "markdown",
   "metadata": {},
   "source": [
    "Higher percentage of females at a school positively correlates with SAT score, whereas a high percentage of males at a school negatively correlates with SAT score."
   ]
  },
  {
   "cell_type": "code",
   "execution_count": 143,
   "metadata": {},
   "outputs": [
    {
     "data": {
      "text/plain": [
       "<matplotlib.axes._subplots.AxesSubplot at 0x24827403108>"
      ]
     },
     "execution_count": 143,
     "metadata": {},
     "output_type": "execute_result"
    },
    {
     "data": {
      "image/png": "[encoded data removed]",
      "text/plain": [
       "<Figure size 432x288 with 1 Axes>"
      ]
     },
     "metadata": {
      "needs_background": "light"
     },
     "output_type": "display_data"
    }
   ],
   "source": [
    "combined.plot.scatter(\"female_per\", \"sat_total\")"
   ]
  },
  {
   "cell_type": "markdown",
   "metadata": {},
   "source": [
    "There is no strong correlation between sat_score and female_per. However, there are schools with a high percentage of females (40 to 80), and high SAT scores."
   ]
  },
  {
   "cell_type": "code",
   "execution_count": 152,
   "metadata": {},
   "outputs": [
    {
     "data": {
      "text/plain": [
       "<matplotlib.axes._subplots.AxesSubplot at 0x24827484288>"
      ]
     },
     "execution_count": 152,
     "metadata": {},
     "output_type": "execute_result"
    },
    {
     "data": {
      "image/png": "[encoded data removed]",
      "text/plain": [
       "<Figure size 432x288 with 1 Axes>"
      ]
     },
     "metadata": {
      "needs_background": "light"
     },
     "output_type": "display_data"
    }
   ],
   "source": [
    "combined.plot.scatter(\"asian_per\", \"sat_total\")\n"
   ]
  },
  {
   "cell_type": "markdown",
   "metadata": {},
   "source": [
    "There is no strong relation between percentage of asians in school and sat score. There are schools where asian percentage is less than 20 and has sat score greater than 1600. "
   ]
  },
  {
   "cell_type": "code",
   "execution_count": 162,
   "metadata": {},
   "outputs": [
    {
     "name": "stdout",
     "output_type": "stream",
     "text": [
      "                                           SCHOOL NAME  hispanic_per\n",
      "4    NEW EXPLORATIONS INTO SCIENCE, TECHNOLOGY AND ...          14.2\n",
      "5                       BARD HIGH SCHOOL EARLY COLLEGE          18.2\n",
      "22            PROFESSIONAL PERFORMING ARTS HIGH SCHOOL          23.7\n",
      "23                   BARUCH COLLEGE CAMPUS HIGH SCHOOL          14.6\n",
      "24         N.Y.C. LAB SCHOOL FOR COLLABORATIVE STUDIES          14.0\n",
      "26                       ELEANOR ROOSEVELT HIGH SCHOOL          11.6\n",
      "27                              MILLENNIUM HIGH SCHOOL          21.7\n",
      "37                              STUYVESANT HIGH SCHOOL           2.4\n",
      "60                                  BEACON HIGH SCHOOL          22.8\n",
      "61   FIORELLO H. LAGUARDIA HIGH SCHOOL OF MUSIC & A...          16.6\n",
      "79   HIGH SCHOOL FOR MATHEMATICS, SCIENCE AND ENGIN...          21.2\n",
      "151                       BRONX HIGH SCHOOL OF SCIENCE           7.2\n",
      "155  HIGH SCHOOL OF AMERICAN STUDIES AT LEHMAN COLLEGE          18.0\n",
      "187                     BROOKLYN TECHNICAL HIGH SCHOOL           7.9\n",
      "198                         BROOKLYN LATIN SCHOOL, THE          17.9\n",
      "278     LEON M. GOLDSTEIN HIGH SCHOOL FOR THE SCIENCES          10.8\n",
      "287                  BARD HIGH SCHOOL EARLY COLLEGE II          21.2\n",
      "302                        TOWNSEND HARRIS HIGH SCHOOL          12.9\n",
      "304                    BENJAMIN N. CARDOZO HIGH SCHOOL          18.6\n",
      "314                                  SCHOLARS' ACADEMY          15.9\n",
      "325  QUEENS GATEWAY TO HEALTH SCIENCES SECONDARY SC...          15.7\n",
      "327  QUEENS HIGH SCHOOL FOR THE SCIENCES AT YORK CO...           7.9\n",
      "346          BACCALAUREATE SCHOOL FOR GLOBAL EDUCATION          24.3\n",
      "356                STATEN ISLAND TECHNICAL HIGH SCHOOL           5.3\n"
     ]
    }
   ],
   "source": [
    "def print_school(col, perc, score):\n",
    "    print(combined[(combined[col] < perc) & (combined[\"sat_total\"] > score)][[\"SCHOOL NAME\", col]])\n",
    "\n",
    "    \n",
    "print_school('hispanic_per', 30, 1500)"
   ]
  },
  {
   "cell_type": "code",
   "execution_count": null,
   "metadata": {},
   "outputs": [],
   "source": []
  },
  {
   "cell_type": "code",
   "execution_count": null,
   "metadata": {},
   "outputs": [],
   "source": []
  }
 ],
 "metadata": {
  "kernelspec": {
   "display_name": "Python 3",
   "language": "python",
   "name": "python3"
  },
  "language_info": {
   "codemirror_mode": {
    "name": "ipython",
    "version": 3
   },
   "file_extension": ".py",
   "mimetype": "text/x-python",
   "name": "python",
   "nbconvert_exporter": "python",
   "pygments_lexer": "ipython3",
   "version": "3.7.4"
  }
 },
 "nbformat": 4,
 "nbformat_minor": 2
}
